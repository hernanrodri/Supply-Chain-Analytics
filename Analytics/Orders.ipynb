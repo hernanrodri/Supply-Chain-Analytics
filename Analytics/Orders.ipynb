{
 "cells": [
  {
   "cell_type": "code",
   "execution_count": 1,
   "id": "bbc8ac01-e7cf-474a-b214-598c482bf58b",
   "metadata": {},
   "outputs": [],
   "source": [
    "import numpy as np\n",
    "import pandas as pd\n",
    "import matplotlib.pyplot as plt\n",
    "from scipy.stats import pearsonr\n",
    "\n",
    "plt.style.use(\"seaborn-darkgrid\")"
   ]
  },
  {
   "cell_type": "markdown",
   "id": "8abfd7ed-9757-4b51-ad25-0a9d0c503b63",
   "metadata": {},
   "source": [
    "# 1ra Etapa: Análisis exploratorio de los datos"
   ]
  },
  {
   "cell_type": "markdown",
   "id": "3189f660-ddd5-4211-ba53-cb41c2c9a798",
   "metadata": {},
   "source": [
    "## Tabla Pedidos"
   ]
  },
  {
   "cell_type": "markdown",
   "id": "1280fa3e-841a-4379-b1c8-9d48ab71fdc0",
   "metadata": {},
   "source": [
    "Esta tabla contiene los registros históricos de los pedidos realizados por los clientes en una fecha determinada. Aunque los datos no pertenecen a la cadena de suministro actual, nos sirve como base para armar las restricciones de optimización de la misma."
   ]
  },
  {
   "cell_type": "code",
   "execution_count": 2,
   "id": "698f8039-991f-4dff-a5aa-8400ab879db9",
   "metadata": {},
   "outputs": [],
   "source": [
    "orders = pd.read_excel(\"data.xlsx\", sheet_name = \"OrderList\")\n",
    "\n",
    "orders.columns = [\"Pedido\", \"Fecha\", \"Puerto de origen\", \"Transportista\", \"TPT\", \"Nivel de servicio\", \"Envío adelantado [días]\", \n",
    "                   \"Envío tardío [días]\", \"Cliente\", \"Producto\", \"Planta\", \"Puerto de destino\", \"Items/pedido\", \"Peso [kg/item]\"]\n",
    "\n",
    "orders = orders.astype({\"Pedido\": int})\n",
    "orders[[\"Planta\", \"Puerto de origen\", \"Puerto de destino\"]] = orders[[\"Planta\", \"Puerto de origen\", \"Puerto de destino\"]].replace({\"[^\\d.]\": \"\"}, regex = True).astype(int)"
   ]
  },
  {
   "cell_type": "code",
   "execution_count": 3,
   "id": "f4ab7e68-4de3-40a5-96c5-a9bf00c903ec",
   "metadata": {},
   "outputs": [
    {
     "data": {
      "text/html": [
       "<div>\n",
       "<style scoped>\n",
       "    .dataframe tbody tr th:only-of-type {\n",
       "        vertical-align: middle;\n",
       "    }\n",
       "\n",
       "    .dataframe tbody tr th {\n",
       "        vertical-align: top;\n",
       "    }\n",
       "\n",
       "    .dataframe thead th {\n",
       "        text-align: right;\n",
       "    }\n",
       "</style>\n",
       "<table border=\"1\" class=\"dataframe\">\n",
       "  <thead>\n",
       "    <tr style=\"text-align: right;\">\n",
       "      <th></th>\n",
       "      <th>Pedido</th>\n",
       "      <th>Fecha</th>\n",
       "      <th>Puerto de origen</th>\n",
       "      <th>Transportista</th>\n",
       "      <th>TPT</th>\n",
       "      <th>Nivel de servicio</th>\n",
       "      <th>Envío adelantado [días]</th>\n",
       "      <th>Envío tardío [días]</th>\n",
       "      <th>Cliente</th>\n",
       "      <th>Producto</th>\n",
       "      <th>Planta</th>\n",
       "      <th>Puerto de destino</th>\n",
       "      <th>Items/pedido</th>\n",
       "      <th>Peso [kg/item]</th>\n",
       "    </tr>\n",
       "  </thead>\n",
       "  <tbody>\n",
       "    <tr>\n",
       "      <th>0</th>\n",
       "      <td>1447296446</td>\n",
       "      <td>2013-05-26</td>\n",
       "      <td>9</td>\n",
       "      <td>V44_3</td>\n",
       "      <td>1</td>\n",
       "      <td>CRF</td>\n",
       "      <td>3</td>\n",
       "      <td>0</td>\n",
       "      <td>V55555_53</td>\n",
       "      <td>1700106</td>\n",
       "      <td>16</td>\n",
       "      <td>9</td>\n",
       "      <td>808</td>\n",
       "      <td>14.30</td>\n",
       "    </tr>\n",
       "    <tr>\n",
       "      <th>1</th>\n",
       "      <td>1447158014</td>\n",
       "      <td>2013-05-26</td>\n",
       "      <td>9</td>\n",
       "      <td>V44_3</td>\n",
       "      <td>1</td>\n",
       "      <td>CRF</td>\n",
       "      <td>3</td>\n",
       "      <td>0</td>\n",
       "      <td>V55555_53</td>\n",
       "      <td>1700106</td>\n",
       "      <td>16</td>\n",
       "      <td>9</td>\n",
       "      <td>3188</td>\n",
       "      <td>87.94</td>\n",
       "    </tr>\n",
       "    <tr>\n",
       "      <th>2</th>\n",
       "      <td>1447138898</td>\n",
       "      <td>2013-05-26</td>\n",
       "      <td>9</td>\n",
       "      <td>V44_3</td>\n",
       "      <td>1</td>\n",
       "      <td>CRF</td>\n",
       "      <td>3</td>\n",
       "      <td>0</td>\n",
       "      <td>V55555_53</td>\n",
       "      <td>1700106</td>\n",
       "      <td>16</td>\n",
       "      <td>9</td>\n",
       "      <td>2331</td>\n",
       "      <td>61.20</td>\n",
       "    </tr>\n",
       "    <tr>\n",
       "      <th>3</th>\n",
       "      <td>1447363527</td>\n",
       "      <td>2013-05-26</td>\n",
       "      <td>9</td>\n",
       "      <td>V44_3</td>\n",
       "      <td>1</td>\n",
       "      <td>CRF</td>\n",
       "      <td>3</td>\n",
       "      <td>0</td>\n",
       "      <td>V55555_53</td>\n",
       "      <td>1700106</td>\n",
       "      <td>16</td>\n",
       "      <td>9</td>\n",
       "      <td>847</td>\n",
       "      <td>16.16</td>\n",
       "    </tr>\n",
       "    <tr>\n",
       "      <th>4</th>\n",
       "      <td>1447363980</td>\n",
       "      <td>2013-05-26</td>\n",
       "      <td>9</td>\n",
       "      <td>V44_3</td>\n",
       "      <td>1</td>\n",
       "      <td>CRF</td>\n",
       "      <td>3</td>\n",
       "      <td>0</td>\n",
       "      <td>V55555_53</td>\n",
       "      <td>1700106</td>\n",
       "      <td>16</td>\n",
       "      <td>9</td>\n",
       "      <td>2163</td>\n",
       "      <td>52.34</td>\n",
       "    </tr>\n",
       "  </tbody>\n",
       "</table>\n",
       "</div>"
      ],
      "text/plain": [
       "       Pedido      Fecha  Puerto de origen Transportista  TPT  \\\n",
       "0  1447296446 2013-05-26                 9         V44_3    1   \n",
       "1  1447158014 2013-05-26                 9         V44_3    1   \n",
       "2  1447138898 2013-05-26                 9         V44_3    1   \n",
       "3  1447363527 2013-05-26                 9         V44_3    1   \n",
       "4  1447363980 2013-05-26                 9         V44_3    1   \n",
       "\n",
       "  Nivel de servicio  Envío adelantado [días]  Envío tardío [días]    Cliente  \\\n",
       "0               CRF                        3                    0  V55555_53   \n",
       "1               CRF                        3                    0  V55555_53   \n",
       "2               CRF                        3                    0  V55555_53   \n",
       "3               CRF                        3                    0  V55555_53   \n",
       "4               CRF                        3                    0  V55555_53   \n",
       "\n",
       "   Producto  Planta  Puerto de destino  Items/pedido  Peso [kg/item]  \n",
       "0   1700106      16                  9           808           14.30  \n",
       "1   1700106      16                  9          3188           87.94  \n",
       "2   1700106      16                  9          2331           61.20  \n",
       "3   1700106      16                  9           847           16.16  \n",
       "4   1700106      16                  9          2163           52.34  "
      ]
     },
     "execution_count": 3,
     "metadata": {},
     "output_type": "execute_result"
    }
   ],
   "source": [
    "orders.head()"
   ]
  },
  {
   "cell_type": "markdown",
   "id": "a03939b8-2804-49c6-bc73-d98d042d1c4a",
   "metadata": {},
   "source": [
    "*¿La tabla contiene filas duplicadas?*"
   ]
  },
  {
   "cell_type": "code",
   "execution_count": 4,
   "id": "3a4eceec-5fb1-4283-9530-ea5e8005cb73",
   "metadata": {},
   "outputs": [
    {
     "name": "stdout",
     "output_type": "stream",
     "text": [
      "La tabla no tiene filas duplicadas\n"
     ]
    }
   ],
   "source": [
    "if orders.duplicated().any():\n",
    "    print(\"La tabla tiene filas duplicadas\")\n",
    "    orders.drop_duplicates(inplace = True)\n",
    "else:\n",
    "    print(\"La tabla no tiene filas duplicadas\")"
   ]
  },
  {
   "cell_type": "markdown",
   "id": "c94242ae-2c82-4c8d-907e-0270ffa5bc3c",
   "metadata": {},
   "source": [
    "*¿Cuándo se realizaron los pedidos?*"
   ]
  },
  {
   "cell_type": "code",
   "execution_count": 5,
   "id": "8d2e7581-e803-4eb9-ab74-2a7459f9bb69",
   "metadata": {},
   "outputs": [
    {
     "data": {
      "text/plain": [
       "'2013-05-26'"
      ]
     },
     "execution_count": 5,
     "metadata": {},
     "output_type": "execute_result"
    }
   ],
   "source": [
    "date = orders[\"Fecha\"].unique().astype(\"datetime64[D]\").astype(str)\n",
    "date[0]"
   ]
  },
  {
   "cell_type": "markdown",
   "id": "68fb6ae2-591b-461a-869d-5409629486b4",
   "metadata": {},
   "source": [
    "*¿Cuál es el total de pedidos?*"
   ]
  },
  {
   "cell_type": "code",
   "execution_count": 6,
   "id": "2e4ac753-bb7e-469e-b8e0-c2db35f0c3d1",
   "metadata": {},
   "outputs": [
    {
     "data": {
      "text/plain": [
       "9215"
      ]
     },
     "execution_count": 6,
     "metadata": {},
     "output_type": "execute_result"
    }
   ],
   "source": [
    "len(orders)"
   ]
  },
  {
   "cell_type": "markdown",
   "id": "698314b2-0464-4eac-82c6-37e1b0be768b",
   "metadata": {},
   "source": [
    "*¿Cuántos pedidos fueron solicitados por cada conjunto Planta, Puerto de origen y Puerto de destino?*"
   ]
  },
  {
   "cell_type": "code",
   "execution_count": 7,
   "id": "62d9ab6a-207d-427f-8cbb-321525fe05a0",
   "metadata": {},
   "outputs": [
    {
     "data": {
      "text/html": [
       "<div>\n",
       "<style scoped>\n",
       "    .dataframe tbody tr th:only-of-type {\n",
       "        vertical-align: middle;\n",
       "    }\n",
       "\n",
       "    .dataframe tbody tr th {\n",
       "        vertical-align: top;\n",
       "    }\n",
       "\n",
       "    .dataframe thead th {\n",
       "        text-align: right;\n",
       "    }\n",
       "</style>\n",
       "<table border=\"1\" class=\"dataframe\">\n",
       "  <thead>\n",
       "    <tr style=\"text-align: right;\">\n",
       "      <th></th>\n",
       "      <th></th>\n",
       "      <th></th>\n",
       "      <th>Recuento de Pedidos</th>\n",
       "      <th>%</th>\n",
       "    </tr>\n",
       "    <tr>\n",
       "      <th>Planta</th>\n",
       "      <th>Puerto de origen</th>\n",
       "      <th>Puerto de destino</th>\n",
       "      <th></th>\n",
       "      <th></th>\n",
       "    </tr>\n",
       "  </thead>\n",
       "  <tbody>\n",
       "    <tr>\n",
       "      <th>3</th>\n",
       "      <th>4</th>\n",
       "      <th>9</th>\n",
       "      <td>8541</td>\n",
       "      <td>92.69</td>\n",
       "    </tr>\n",
       "    <tr>\n",
       "      <th>4</th>\n",
       "      <th>5</th>\n",
       "      <th>9</th>\n",
       "      <td>1</td>\n",
       "      <td>0.01</td>\n",
       "    </tr>\n",
       "    <tr>\n",
       "      <th>8</th>\n",
       "      <th>4</th>\n",
       "      <th>9</th>\n",
       "      <td>102</td>\n",
       "      <td>1.11</td>\n",
       "    </tr>\n",
       "    <tr>\n",
       "      <th>9</th>\n",
       "      <th>4</th>\n",
       "      <th>9</th>\n",
       "      <td>12</td>\n",
       "      <td>0.13</td>\n",
       "    </tr>\n",
       "    <tr>\n",
       "      <th>12</th>\n",
       "      <th>4</th>\n",
       "      <th>9</th>\n",
       "      <td>300</td>\n",
       "      <td>3.26</td>\n",
       "    </tr>\n",
       "    <tr>\n",
       "      <th>13</th>\n",
       "      <th>4</th>\n",
       "      <th>9</th>\n",
       "      <td>86</td>\n",
       "      <td>0.93</td>\n",
       "    </tr>\n",
       "    <tr>\n",
       "      <th>16</th>\n",
       "      <th>9</th>\n",
       "      <th>9</th>\n",
       "      <td>173</td>\n",
       "      <td>1.88</td>\n",
       "    </tr>\n",
       "  </tbody>\n",
       "</table>\n",
       "</div>"
      ],
      "text/plain": [
       "                                           Recuento de Pedidos      %\n",
       "Planta Puerto de origen Puerto de destino                            \n",
       "3      4                9                                 8541  92.69\n",
       "4      5                9                                    1   0.01\n",
       "8      4                9                                  102   1.11\n",
       "9      4                9                                   12   0.13\n",
       "12     4                9                                  300   3.26\n",
       "13     4                9                                   86   0.93\n",
       "16     9                9                                  173   1.88"
      ]
     },
     "execution_count": 7,
     "metadata": {},
     "output_type": "execute_result"
    }
   ],
   "source": [
    "g1 = orders.groupby(by = [\"Planta\", \"Puerto de origen\", \"Puerto de destino\"]).agg({\"Pedido\": \"size\"}).rename(columns = {\"Pedido\": \"Recuento de Pedidos\"})\n",
    "\n",
    "total = g1[\"Recuento de Pedidos\"].sum()\n",
    "g1[\"%\"] = g1[\"Recuento de Pedidos\"].apply(lambda x: x / total * 100)\n",
    "\n",
    "g1.round(2)"
   ]
  },
  {
   "cell_type": "code",
   "execution_count": 8,
   "id": "b34c1cfd-8925-4048-a07f-9adc0c9c8e63",
   "metadata": {},
   "outputs": [
    {
     "data": {
      "text/plain": [
       "Text(0, 0.5, '% Items')"
      ]
     },
     "execution_count": 8,
     "metadata": {},
     "output_type": "execute_result"
    },
    {
     "data": {
      "image/png": "[encoded data removed]",
      "text/plain": [
       "<Figure size 648x504 with 1 Axes>"
      ]
     },
     "metadata": {},
     "output_type": "display_data"
    }
   ],
   "source": [
    "plt.figure(figsize = (9, 7))\n",
    "plt.bar(g1.index.levels[0], g1[\"%\"])\n",
    "plt.xlabel(\"Planta\")\n",
    "plt.ylabel(\"% Items\")"
   ]
  },
  {
   "cell_type": "markdown",
   "id": "71b2d729-0ce8-41bb-af68-482e0c8537d0",
   "metadata": {},
   "source": [
    "*¿Cuántos items fueron solicitados por cada conjunto Planta, Puerto de origen y Puerto de destino?*"
   ]
  },
  {
   "cell_type": "code",
   "execution_count": 9,
   "id": "2c12643f-c0a5-4cb1-875a-a33a7294105b",
   "metadata": {},
   "outputs": [
    {
     "data": {
      "text/html": [
       "<div>\n",
       "<style scoped>\n",
       "    .dataframe tbody tr th:only-of-type {\n",
       "        vertical-align: middle;\n",
       "    }\n",
       "\n",
       "    .dataframe tbody tr th {\n",
       "        vertical-align: top;\n",
       "    }\n",
       "\n",
       "    .dataframe thead tr th {\n",
       "        text-align: left;\n",
       "    }\n",
       "\n",
       "    .dataframe thead tr:last-of-type th {\n",
       "        text-align: right;\n",
       "    }\n",
       "</style>\n",
       "<table border=\"1\" class=\"dataframe\">\n",
       "  <thead>\n",
       "    <tr>\n",
       "      <th></th>\n",
       "      <th></th>\n",
       "      <th></th>\n",
       "      <th colspan=\"3\" halign=\"left\">Items/pedido</th>\n",
       "      <th>Items</th>\n",
       "    </tr>\n",
       "    <tr>\n",
       "      <th></th>\n",
       "      <th></th>\n",
       "      <th></th>\n",
       "      <th>min</th>\n",
       "      <th>max</th>\n",
       "      <th>sum</th>\n",
       "      <th>%</th>\n",
       "    </tr>\n",
       "    <tr>\n",
       "      <th>Planta</th>\n",
       "      <th>Puerto de origen</th>\n",
       "      <th>Puerto de destino</th>\n",
       "      <th></th>\n",
       "      <th></th>\n",
       "      <th></th>\n",
       "      <th></th>\n",
       "    </tr>\n",
       "  </thead>\n",
       "  <tbody>\n",
       "    <tr>\n",
       "      <th>3</th>\n",
       "      <th>4</th>\n",
       "      <th>9</th>\n",
       "      <td>235</td>\n",
       "      <td>561847</td>\n",
       "      <td>28611617</td>\n",
       "      <td>96.94</td>\n",
       "    </tr>\n",
       "    <tr>\n",
       "      <th>4</th>\n",
       "      <th>5</th>\n",
       "      <th>9</th>\n",
       "      <td>348</td>\n",
       "      <td>348</td>\n",
       "      <td>348</td>\n",
       "      <td>0.00</td>\n",
       "    </tr>\n",
       "    <tr>\n",
       "      <th>8</th>\n",
       "      <th>4</th>\n",
       "      <th>9</th>\n",
       "      <td>684</td>\n",
       "      <td>5680</td>\n",
       "      <td>277008</td>\n",
       "      <td>0.94</td>\n",
       "    </tr>\n",
       "    <tr>\n",
       "      <th>9</th>\n",
       "      <th>4</th>\n",
       "      <th>9</th>\n",
       "      <td>2301</td>\n",
       "      <td>101069</td>\n",
       "      <td>223830</td>\n",
       "      <td>0.76</td>\n",
       "    </tr>\n",
       "    <tr>\n",
       "      <th>12</th>\n",
       "      <th>4</th>\n",
       "      <th>9</th>\n",
       "      <td>236</td>\n",
       "      <td>1321</td>\n",
       "      <td>112000</td>\n",
       "      <td>0.38</td>\n",
       "    </tr>\n",
       "    <tr>\n",
       "      <th>13</th>\n",
       "      <th>4</th>\n",
       "      <th>9</th>\n",
       "      <td>240</td>\n",
       "      <td>5244</td>\n",
       "      <td>43379</td>\n",
       "      <td>0.15</td>\n",
       "    </tr>\n",
       "    <tr>\n",
       "      <th>16</th>\n",
       "      <th>9</th>\n",
       "      <th>9</th>\n",
       "      <td>280</td>\n",
       "      <td>4464</td>\n",
       "      <td>245133</td>\n",
       "      <td>0.83</td>\n",
       "    </tr>\n",
       "  </tbody>\n",
       "</table>\n",
       "</div>"
      ],
      "text/plain": [
       "                                          Items/pedido                    \\\n",
       "                                                   min     max       sum   \n",
       "Planta Puerto de origen Puerto de destino                                  \n",
       "3      4                9                          235  561847  28611617   \n",
       "4      5                9                          348     348       348   \n",
       "8      4                9                          684    5680    277008   \n",
       "9      4                9                         2301  101069    223830   \n",
       "12     4                9                          236    1321    112000   \n",
       "13     4                9                          240    5244     43379   \n",
       "16     9                9                          280    4464    245133   \n",
       "\n",
       "                                           Items  \n",
       "                                               %  \n",
       "Planta Puerto de origen Puerto de destino         \n",
       "3      4                9                  96.94  \n",
       "4      5                9                   0.00  \n",
       "8      4                9                   0.94  \n",
       "9      4                9                   0.76  \n",
       "12     4                9                   0.38  \n",
       "13     4                9                   0.15  \n",
       "16     9                9                   0.83  "
      ]
     },
     "execution_count": 9,
     "metadata": {},
     "output_type": "execute_result"
    }
   ],
   "source": [
    "g2 = orders.groupby(by = [\"Planta\", \"Puerto de origen\", \"Puerto de destino\"]).agg({\"Items/pedido\": [\"min\", \"max\", \"sum\"]})\n",
    "\n",
    "total = g2[(\"Items/pedido\", \"sum\")].sum()\n",
    "g2[(\"Items\", \"%\")] = g2[(\"Items/pedido\", \"sum\")].apply(lambda x: x / total * 100)\n",
    "\n",
    "g2.round(2)"
   ]
  },
  {
   "cell_type": "code",
   "execution_count": 10,
   "id": "74e5f50f-5604-484e-a2b2-b092b7277da4",
   "metadata": {},
   "outputs": [
    {
     "data": {
      "text/plain": [
       "Text(0, 0.5, '% Items')"
      ]
     },
     "execution_count": 10,
     "metadata": {},
     "output_type": "execute_result"
    },
    {
     "data": {
      "image/png": "[encoded data removed]",
      "text/plain": [
       "<Figure size 648x504 with 1 Axes>"
      ]
     },
     "metadata": {},
     "output_type": "display_data"
    }
   ],
   "source": [
    "plt.figure(figsize = (9, 7))\n",
    "plt.bar(g2.index.levels[0], g2[(\"Items\", \"%\")])\n",
    "plt.xlabel(\"Planta\")\n",
    "plt.ylabel(\"% Items\")"
   ]
  },
  {
   "cell_type": "markdown",
   "id": "7b87c7b7-397b-4c44-a27f-49edee6df47f",
   "metadata": {},
   "source": [
    "*¿Hay alguna correlación entre Recuento de Pedidos e Items/pedido?*"
   ]
  },
  {
   "cell_type": "code",
   "execution_count": 11,
   "id": "ed77e421-8bd3-4f38-89d9-2787ced7c41f",
   "metadata": {},
   "outputs": [
    {
     "data": {
      "text/plain": [
       "1.0"
      ]
     },
     "execution_count": 11,
     "metadata": {},
     "output_type": "execute_result"
    }
   ],
   "source": [
    "\n",
    "r2, pvalue = pearsonr(g1[\"Recuento de Pedidos\"], g2[(\"Items/pedido\", \"sum\")])\n",
    "r2.round(2)"
   ]
  },
  {
   "cell_type": "code",
   "execution_count": null,
   "id": "01aa6145",
   "metadata": {},
   "outputs": [],
   "source": []
  }
 ],
 "metadata": {
  "kernelspec": {
   "display_name": "base",
   "language": "python",
   "name": "python3"
  },
  "language_info": {
   "codemirror_mode": {
    "name": "ipython",
    "version": 3
   },
   "file_extension": ".py",
   "mimetype": "text/x-python",
   "name": "python",
   "nbconvert_exporter": "python",
   "pygments_lexer": "ipython3",
   "version": "3.8.8"
  }
 },
 "nbformat": 4,
 "nbformat_minor": 5
}
