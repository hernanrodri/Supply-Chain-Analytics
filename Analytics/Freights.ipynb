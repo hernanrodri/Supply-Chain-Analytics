{
 "cells": [
  {
   "cell_type": "code",
   "execution_count": 1,
   "id": "8474a14e-8adc-4836-8b68-cb49c86fe116",
   "metadata": {},
   "outputs": [],
   "source": [
    "import numpy as np\n",
    "import pandas as pd\n",
    "import matplotlib.pyplot as plt\n",
    "\n",
    "plt.style.use(\"seaborn-darkgrid\")"
   ]
  },
  {
   "cell_type": "markdown",
   "id": "d55325c4-0119-43ca-a4a1-44b4cdd23cc5",
   "metadata": {},
   "source": [
    "## Tabla Fletes"
   ]
  },
  {
   "cell_type": "markdown",
   "id": "306368e1-7b1a-40de-ba7b-1b1c58718b4d",
   "metadata": {},
   "source": [
    "Esta tabla describe todos los transportistas disponibles, los rangos de peso para cada ruta individual y las tarifas asociadas. "
   ]
  },
  {
   "cell_type": "code",
   "execution_count": 2,
   "id": "2c1b3aa2-99ae-4a8b-bb46-48df15a4de32",
   "metadata": {},
   "outputs": [],
   "source": [
    "freights = pd.read_excel(\"data.xlsx\", sheet_name = \"FreightRates\")\n",
    "\n",
    "freights.columns = [\"Transportista\", \"Puerto de origen\", \"Puerto de destino\", \"Peso mínimo [kg/item]\", \"Peso máximo [kg/item]\", \n",
    "                  \"Nivel de servicio\", \"Costo mínimo [USD/kg]\", \"Tasa de flete [USD/kg]\", \"Modo de transporte\", \"Envío [días]\", \n",
    "                  \"Tipo de transportista\"]\n",
    "\n",
    "freights[[\"Puerto de origen\", \"Puerto de destino\"]] = freights[[\"Puerto de origen\", \"Puerto de destino\"]].replace({\"[^\\d.]\": \"\"}, regex = True).astype(int)\n",
    "freights[\"Modo de transporte\"] = freights[\"Modo de transporte\"].replace({\"AIR   \": \"Aire\", \"GROUND\": \"Tierra\"}, regex = True)"
   ]
  },
  {
   "cell_type": "code",
   "execution_count": 3,
   "id": "8521496c",
   "metadata": {},
   "outputs": [
    {
     "data": {
      "text/html": [
       "<div>\n",
       "<style scoped>\n",
       "    .dataframe tbody tr th:only-of-type {\n",
       "        vertical-align: middle;\n",
       "    }\n",
       "\n",
       "    .dataframe tbody tr th {\n",
       "        vertical-align: top;\n",
       "    }\n",
       "\n",
       "    .dataframe thead th {\n",
       "        text-align: right;\n",
       "    }\n",
       "</style>\n",
       "<table border=\"1\" class=\"dataframe\">\n",
       "  <thead>\n",
       "    <tr style=\"text-align: right;\">\n",
       "      <th></th>\n",
       "      <th>Transportista</th>\n",
       "      <th>Puerto de origen</th>\n",
       "      <th>Puerto de destino</th>\n",
       "      <th>Peso mínimo [kg/item]</th>\n",
       "      <th>Peso máximo [kg/item]</th>\n",
       "      <th>Nivel de servicio</th>\n",
       "      <th>Costo mínimo [USD/kg]</th>\n",
       "      <th>Tasa de flete [USD/kg]</th>\n",
       "      <th>Modo de transporte</th>\n",
       "      <th>Envío [días]</th>\n",
       "      <th>Tipo de transportista</th>\n",
       "    </tr>\n",
       "  </thead>\n",
       "  <tbody>\n",
       "    <tr>\n",
       "      <th>0</th>\n",
       "      <td>V444_6</td>\n",
       "      <td>8</td>\n",
       "      <td>9</td>\n",
       "      <td>250.0</td>\n",
       "      <td>499.99</td>\n",
       "      <td>DTD</td>\n",
       "      <td>43.2272</td>\n",
       "      <td>0.7132</td>\n",
       "      <td>Aire</td>\n",
       "      <td>2</td>\n",
       "      <td>V88888888_0</td>\n",
       "    </tr>\n",
       "    <tr>\n",
       "      <th>1</th>\n",
       "      <td>V444_6</td>\n",
       "      <td>8</td>\n",
       "      <td>9</td>\n",
       "      <td>65.0</td>\n",
       "      <td>69.99</td>\n",
       "      <td>DTD</td>\n",
       "      <td>43.2272</td>\n",
       "      <td>0.7512</td>\n",
       "      <td>Aire</td>\n",
       "      <td>2</td>\n",
       "      <td>V88888888_0</td>\n",
       "    </tr>\n",
       "    <tr>\n",
       "      <th>2</th>\n",
       "      <td>V444_6</td>\n",
       "      <td>8</td>\n",
       "      <td>9</td>\n",
       "      <td>60.0</td>\n",
       "      <td>64.99</td>\n",
       "      <td>DTD</td>\n",
       "      <td>43.2272</td>\n",
       "      <td>0.7892</td>\n",
       "      <td>Aire</td>\n",
       "      <td>2</td>\n",
       "      <td>V88888888_0</td>\n",
       "    </tr>\n",
       "    <tr>\n",
       "      <th>3</th>\n",
       "      <td>V444_6</td>\n",
       "      <td>8</td>\n",
       "      <td>9</td>\n",
       "      <td>50.0</td>\n",
       "      <td>54.99</td>\n",
       "      <td>DTD</td>\n",
       "      <td>43.2272</td>\n",
       "      <td>0.8272</td>\n",
       "      <td>Aire</td>\n",
       "      <td>2</td>\n",
       "      <td>V88888888_0</td>\n",
       "    </tr>\n",
       "    <tr>\n",
       "      <th>4</th>\n",
       "      <td>V444_6</td>\n",
       "      <td>8</td>\n",
       "      <td>9</td>\n",
       "      <td>35.0</td>\n",
       "      <td>39.99</td>\n",
       "      <td>DTD</td>\n",
       "      <td>43.2272</td>\n",
       "      <td>1.0552</td>\n",
       "      <td>Aire</td>\n",
       "      <td>2</td>\n",
       "      <td>V88888888_0</td>\n",
       "    </tr>\n",
       "  </tbody>\n",
       "</table>\n",
       "</div>"
      ],
      "text/plain": [
       "  Transportista  Puerto de origen  Puerto de destino  Peso mínimo [kg/item]  \\\n",
       "0        V444_6                 8                  9                  250.0   \n",
       "1        V444_6                 8                  9                   65.0   \n",
       "2        V444_6                 8                  9                   60.0   \n",
       "3        V444_6                 8                  9                   50.0   \n",
       "4        V444_6                 8                  9                   35.0   \n",
       "\n",
       "   Peso máximo [kg/item] Nivel de servicio  Costo mínimo [USD/kg]  \\\n",
       "0                 499.99               DTD                43.2272   \n",
       "1                  69.99               DTD                43.2272   \n",
       "2                  64.99               DTD                43.2272   \n",
       "3                  54.99               DTD                43.2272   \n",
       "4                  39.99               DTD                43.2272   \n",
       "\n",
       "   Tasa de flete [USD/kg] Modo de transporte  Envío [días]  \\\n",
       "0                  0.7132               Aire             2   \n",
       "1                  0.7512               Aire             2   \n",
       "2                  0.7892               Aire             2   \n",
       "3                  0.8272               Aire             2   \n",
       "4                  1.0552               Aire             2   \n",
       "\n",
       "  Tipo de transportista  \n",
       "0           V88888888_0  \n",
       "1           V88888888_0  \n",
       "2           V88888888_0  \n",
       "3           V88888888_0  \n",
       "4           V88888888_0  "
      ]
     },
     "execution_count": 3,
     "metadata": {},
     "output_type": "execute_result"
    }
   ],
   "source": [
    "freights.head()"
   ]
  },
  {
   "cell_type": "code",
   "execution_count": 4,
   "id": "baaa5137",
   "metadata": {},
   "outputs": [
    {
     "data": {
      "text/plain": [
       "Transportista              object\n",
       "Puerto de origen            int32\n",
       "Puerto de destino           int32\n",
       "Peso mínimo [kg/item]     float64\n",
       "Peso máximo [kg/item]     float64\n",
       "Nivel de servicio          object\n",
       "Costo mínimo [USD/kg]     float64\n",
       "Tasa de flete [USD/kg]    float64\n",
       "Modo de transporte         object\n",
       "Envío [días]                int64\n",
       "Tipo de transportista      object\n",
       "dtype: object"
      ]
     },
     "execution_count": 4,
     "metadata": {},
     "output_type": "execute_result"
    }
   ],
   "source": [
    "freights.dtypes"
   ]
  },
  {
   "cell_type": "markdown",
   "id": "8d0c02c2-14ef-4b62-bd05-63f4befe6cf4",
   "metadata": {},
   "source": [
    "*¿La tabla contiene filas duplicadas?*"
   ]
  },
  {
   "cell_type": "code",
   "execution_count": 5,
   "id": "6467b96c-5744-42ac-80fb-292d27f5f015",
   "metadata": {},
   "outputs": [
    {
     "name": "stdout",
     "output_type": "stream",
     "text": [
      "La tabla tiene filas duplicadas\n"
     ]
    }
   ],
   "source": [
    "if freights.duplicated().any():\n",
    "    print(\"La tabla tiene filas duplicadas\")\n",
    "    freights.drop_duplicates(inplace = True)\n",
    "else:\n",
    "    print(\"La tabla no tiene filas duplicadas\")"
   ]
  },
  {
   "cell_type": "markdown",
   "id": "64b130e6",
   "metadata": {},
   "source": [
    "*¿La tabla tiene valores nulos?*"
   ]
  },
  {
   "cell_type": "code",
   "execution_count": 6,
   "id": "15b8a390",
   "metadata": {},
   "outputs": [
    {
     "name": "stdout",
     "output_type": "stream",
     "text": [
      "La tabla no tiene valores nulos\n"
     ]
    }
   ],
   "source": [
    "if freights.isna().any(axis = None):\n",
    "    print(\"La tabla tiene valores nulos\")\n",
    "    freights.dropna(axis = 1, inplace = True)\n",
    "else:\n",
    "    print(\"La tabla no tiene valores nulos\")"
   ]
  },
  {
   "cell_type": "code",
   "execution_count": 7,
   "id": "3da386d6-8ad3-4733-8ef0-ff33d9244b08",
   "metadata": {},
   "outputs": [
    {
     "data": {
      "text/html": [
       "<div>\n",
       "<style scoped>\n",
       "    .dataframe tbody tr th:only-of-type {\n",
       "        vertical-align: middle;\n",
       "    }\n",
       "\n",
       "    .dataframe tbody tr th {\n",
       "        vertical-align: top;\n",
       "    }\n",
       "\n",
       "    .dataframe thead tr th {\n",
       "        text-align: left;\n",
       "    }\n",
       "\n",
       "    .dataframe thead tr:last-of-type th {\n",
       "        text-align: right;\n",
       "    }\n",
       "</style>\n",
       "<table border=\"1\" class=\"dataframe\">\n",
       "  <thead>\n",
       "    <tr>\n",
       "      <th></th>\n",
       "      <th></th>\n",
       "      <th colspan=\"4\" halign=\"left\">Tasa de flete [USD/kg]</th>\n",
       "    </tr>\n",
       "    <tr>\n",
       "      <th></th>\n",
       "      <th></th>\n",
       "      <th>min</th>\n",
       "      <th>mean</th>\n",
       "      <th>max</th>\n",
       "      <th>std</th>\n",
       "    </tr>\n",
       "    <tr>\n",
       "      <th>Puerto de origen</th>\n",
       "      <th>Puerto de destino</th>\n",
       "      <th></th>\n",
       "      <th></th>\n",
       "      <th></th>\n",
       "      <th></th>\n",
       "    </tr>\n",
       "  </thead>\n",
       "  <tbody>\n",
       "    <tr>\n",
       "      <th>2</th>\n",
       "      <th>9</th>\n",
       "      <td>0.05</td>\n",
       "      <td>1.87</td>\n",
       "      <td>7.06</td>\n",
       "      <td>1.78</td>\n",
       "    </tr>\n",
       "    <tr>\n",
       "      <th>3</th>\n",
       "      <th>9</th>\n",
       "      <td>0.12</td>\n",
       "      <td>9.84</td>\n",
       "      <td>128.03</td>\n",
       "      <td>19.98</td>\n",
       "    </tr>\n",
       "    <tr>\n",
       "      <th>4</th>\n",
       "      <th>9</th>\n",
       "      <td>0.04</td>\n",
       "      <td>1.94</td>\n",
       "      <td>7.66</td>\n",
       "      <td>2.05</td>\n",
       "    </tr>\n",
       "    <tr>\n",
       "      <th>5</th>\n",
       "      <th>9</th>\n",
       "      <td>0.07</td>\n",
       "      <td>2.87</td>\n",
       "      <td>12.07</td>\n",
       "      <td>2.90</td>\n",
       "    </tr>\n",
       "    <tr>\n",
       "      <th>6</th>\n",
       "      <th>9</th>\n",
       "      <td>0.07</td>\n",
       "      <td>2.53</td>\n",
       "      <td>7.16</td>\n",
       "      <td>1.74</td>\n",
       "    </tr>\n",
       "    <tr>\n",
       "      <th>7</th>\n",
       "      <th>9</th>\n",
       "      <td>0.14</td>\n",
       "      <td>0.20</td>\n",
       "      <td>0.28</td>\n",
       "      <td>0.04</td>\n",
       "    </tr>\n",
       "    <tr>\n",
       "      <th>8</th>\n",
       "      <th>9</th>\n",
       "      <td>0.10</td>\n",
       "      <td>0.59</td>\n",
       "      <td>1.83</td>\n",
       "      <td>0.56</td>\n",
       "    </tr>\n",
       "    <tr>\n",
       "      <th>9</th>\n",
       "      <th>9</th>\n",
       "      <td>0.03</td>\n",
       "      <td>2.84</td>\n",
       "      <td>21.28</td>\n",
       "      <td>6.59</td>\n",
       "    </tr>\n",
       "    <tr>\n",
       "      <th>10</th>\n",
       "      <th>9</th>\n",
       "      <td>0.10</td>\n",
       "      <td>5.37</td>\n",
       "      <td>18.96</td>\n",
       "      <td>4.99</td>\n",
       "    </tr>\n",
       "    <tr>\n",
       "      <th>11</th>\n",
       "      <th>9</th>\n",
       "      <td>0.07</td>\n",
       "      <td>0.13</td>\n",
       "      <td>0.34</td>\n",
       "      <td>0.06</td>\n",
       "    </tr>\n",
       "  </tbody>\n",
       "</table>\n",
       "</div>"
      ],
      "text/plain": [
       "                                   Tasa de flete [USD/kg]                     \n",
       "                                                      min  mean     max    std\n",
       "Puerto de origen Puerto de destino                                            \n",
       "2                9                                   0.05  1.87    7.06   1.78\n",
       "3                9                                   0.12  9.84  128.03  19.98\n",
       "4                9                                   0.04  1.94    7.66   2.05\n",
       "5                9                                   0.07  2.87   12.07   2.90\n",
       "6                9                                   0.07  2.53    7.16   1.74\n",
       "7                9                                   0.14  0.20    0.28   0.04\n",
       "8                9                                   0.10  0.59    1.83   0.56\n",
       "9                9                                   0.03  2.84   21.28   6.59\n",
       "10               9                                   0.10  5.37   18.96   4.99\n",
       "11               9                                   0.07  0.13    0.34   0.06"
      ]
     },
     "execution_count": 7,
     "metadata": {},
     "output_type": "execute_result"
    }
   ],
   "source": [
    "g1 = freights.groupby(by = [\"Puerto de origen\", \"Puerto de destino\"]).agg({\"Tasa de flete [USD/kg]\": [\"min\", \"mean\", \"max\", \"std\"]})\n",
    "g1.round(2)"
   ]
  },
  {
   "cell_type": "code",
   "execution_count": 8,
   "id": "968cc03b-acbf-4f7b-b0ff-0e7aa586b2b8",
   "metadata": {},
   "outputs": [
    {
     "data": {
      "text/plain": [
       "(0.0, 22.0)"
      ]
     },
     "execution_count": 8,
     "metadata": {},
     "output_type": "execute_result"
    },
    {
     "data": {
      "image/png": "[encoded data removed]",
      "text/plain": [
       "<Figure size 648x504 with 1 Axes>"
      ]
     },
     "metadata": {},
     "output_type": "display_data"
    }
   ],
   "source": [
    "plt.figure(figsize = (9, 7))\n",
    "plt.hist(freights[\"Tasa de flete [USD/kg]\"], bins = 100)\n",
    "plt.xlabel(\"Tasa de flete [USD/kg]\")\n",
    "plt.ylabel(\"Frecuencia absoluta\")\n",
    "plt.xlim(0, 22)"
   ]
  },
  {
   "cell_type": "code",
   "execution_count": 9,
   "id": "5cb79c1c-9543-402a-9115-e6d9dcef3748",
   "metadata": {},
   "outputs": [
    {
     "data": {
      "text/html": [
       "<div>\n",
       "<style scoped>\n",
       "    .dataframe tbody tr th:only-of-type {\n",
       "        vertical-align: middle;\n",
       "    }\n",
       "\n",
       "    .dataframe tbody tr th {\n",
       "        vertical-align: top;\n",
       "    }\n",
       "\n",
       "    .dataframe thead tr th {\n",
       "        text-align: left;\n",
       "    }\n",
       "\n",
       "    .dataframe thead tr:last-of-type th {\n",
       "        text-align: right;\n",
       "    }\n",
       "</style>\n",
       "<table border=\"1\" class=\"dataframe\">\n",
       "  <thead>\n",
       "    <tr>\n",
       "      <th></th>\n",
       "      <th></th>\n",
       "      <th colspan=\"4\" halign=\"left\">Envío [días]</th>\n",
       "    </tr>\n",
       "    <tr>\n",
       "      <th></th>\n",
       "      <th></th>\n",
       "      <th>min</th>\n",
       "      <th>mean</th>\n",
       "      <th>max</th>\n",
       "      <th>sum</th>\n",
       "    </tr>\n",
       "    <tr>\n",
       "      <th>Puerto de origen</th>\n",
       "      <th>Puerto de destino</th>\n",
       "      <th></th>\n",
       "      <th></th>\n",
       "      <th></th>\n",
       "      <th></th>\n",
       "    </tr>\n",
       "  </thead>\n",
       "  <tbody>\n",
       "    <tr>\n",
       "      <th>2</th>\n",
       "      <th>9</th>\n",
       "      <td>0</td>\n",
       "      <td>1.62</td>\n",
       "      <td>14</td>\n",
       "      <td>366</td>\n",
       "    </tr>\n",
       "    <tr>\n",
       "      <th>3</th>\n",
       "      <th>9</th>\n",
       "      <td>0</td>\n",
       "      <td>3.05</td>\n",
       "      <td>14</td>\n",
       "      <td>128</td>\n",
       "    </tr>\n",
       "    <tr>\n",
       "      <th>4</th>\n",
       "      <th>9</th>\n",
       "      <td>0</td>\n",
       "      <td>1.58</td>\n",
       "      <td>14</td>\n",
       "      <td>366</td>\n",
       "    </tr>\n",
       "    <tr>\n",
       "      <th>5</th>\n",
       "      <th>9</th>\n",
       "      <td>1</td>\n",
       "      <td>1.27</td>\n",
       "      <td>4</td>\n",
       "      <td>278</td>\n",
       "    </tr>\n",
       "    <tr>\n",
       "      <th>6</th>\n",
       "      <th>9</th>\n",
       "      <td>1</td>\n",
       "      <td>1.99</td>\n",
       "      <td>3</td>\n",
       "      <td>953</td>\n",
       "    </tr>\n",
       "    <tr>\n",
       "      <th>7</th>\n",
       "      <th>9</th>\n",
       "      <td>3</td>\n",
       "      <td>4.50</td>\n",
       "      <td>6</td>\n",
       "      <td>90</td>\n",
       "    </tr>\n",
       "    <tr>\n",
       "      <th>8</th>\n",
       "      <th>9</th>\n",
       "      <td>2</td>\n",
       "      <td>4.82</td>\n",
       "      <td>14</td>\n",
       "      <td>188</td>\n",
       "    </tr>\n",
       "    <tr>\n",
       "      <th>9</th>\n",
       "      <th>9</th>\n",
       "      <td>0</td>\n",
       "      <td>4.42</td>\n",
       "      <td>14</td>\n",
       "      <td>106</td>\n",
       "    </tr>\n",
       "    <tr>\n",
       "      <th>10</th>\n",
       "      <th>9</th>\n",
       "      <td>2</td>\n",
       "      <td>3.17</td>\n",
       "      <td>6</td>\n",
       "      <td>704</td>\n",
       "    </tr>\n",
       "    <tr>\n",
       "      <th>11</th>\n",
       "      <th>9</th>\n",
       "      <td>0</td>\n",
       "      <td>5.29</td>\n",
       "      <td>14</td>\n",
       "      <td>185</td>\n",
       "    </tr>\n",
       "  </tbody>\n",
       "</table>\n",
       "</div>"
      ],
      "text/plain": [
       "                                   Envío [días]               \n",
       "                                            min  mean max  sum\n",
       "Puerto de origen Puerto de destino                            \n",
       "2                9                            0  1.62  14  366\n",
       "3                9                            0  3.05  14  128\n",
       "4                9                            0  1.58  14  366\n",
       "5                9                            1  1.27   4  278\n",
       "6                9                            1  1.99   3  953\n",
       "7                9                            3  4.50   6   90\n",
       "8                9                            2  4.82  14  188\n",
       "9                9                            0  4.42  14  106\n",
       "10               9                            2  3.17   6  704\n",
       "11               9                            0  5.29  14  185"
      ]
     },
     "execution_count": 9,
     "metadata": {},
     "output_type": "execute_result"
    }
   ],
   "source": [
    "g2 = freights.groupby(by = [\"Puerto de origen\", \"Puerto de destino\"]).agg({\"Envío [días]\": [\"min\", \"mean\", \"max\", \"sum\"]})\n",
    "g2.round(2)"
   ]
  },
  {
   "cell_type": "code",
   "execution_count": 10,
   "id": "0221262e-67be-49db-8878-d866db23ef1e",
   "metadata": {},
   "outputs": [
    {
     "data": {
      "text/plain": [
       "Text(0, 0.5, 'Suma de Envío [días]')"
      ]
     },
     "execution_count": 10,
     "metadata": {},
     "output_type": "execute_result"
    },
    {
     "data": {
      "image/png": "[encoded data removed]",
      "text/plain": [
       "<Figure size 648x504 with 1 Axes>"
      ]
     },
     "metadata": {},
     "output_type": "display_data"
    }
   ],
   "source": [
    "plt.figure(figsize = (9, 7))\n",
    "plt.bar(g2.index.levels[0], g2[(\"Envío [días]\", \"sum\")])\n",
    "plt.xlabel(\"Puerto de origen\")\n",
    "plt.ylabel(\"Suma de Envío [días]\")"
   ]
  },
  {
   "cell_type": "code",
   "execution_count": 11,
   "id": "278e84df",
   "metadata": {},
   "outputs": [
    {
     "data": {
      "text/html": [
       "<div>\n",
       "<style scoped>\n",
       "    .dataframe tbody tr th:only-of-type {\n",
       "        vertical-align: middle;\n",
       "    }\n",
       "\n",
       "    .dataframe tbody tr th {\n",
       "        vertical-align: top;\n",
       "    }\n",
       "\n",
       "    .dataframe thead th {\n",
       "        text-align: right;\n",
       "    }\n",
       "</style>\n",
       "<table border=\"1\" class=\"dataframe\">\n",
       "  <thead>\n",
       "    <tr style=\"text-align: right;\">\n",
       "      <th></th>\n",
       "      <th>Recuento de Puerto de origen</th>\n",
       "    </tr>\n",
       "    <tr>\n",
       "      <th>Modo de transporte</th>\n",
       "      <th></th>\n",
       "    </tr>\n",
       "  </thead>\n",
       "  <tbody>\n",
       "    <tr>\n",
       "      <th>Aire</th>\n",
       "      <td>1511</td>\n",
       "    </tr>\n",
       "    <tr>\n",
       "      <th>Tierra</th>\n",
       "      <td>26</td>\n",
       "    </tr>\n",
       "  </tbody>\n",
       "</table>\n",
       "</div>"
      ],
      "text/plain": [
       "                    Recuento de Puerto de origen\n",
       "Modo de transporte                              \n",
       "Aire                                        1511\n",
       "Tierra                                        26"
      ]
     },
     "execution_count": 11,
     "metadata": {},
     "output_type": "execute_result"
    }
   ],
   "source": [
    "g3 = freights.groupby(by = \"Modo de transporte\").agg({\"Puerto de origen\": \"size\"}).rename(columns = {\"Puerto de origen\": \"Recuento de Puerto de origen\"})\n",
    "g3"
   ]
  },
  {
   "cell_type": "code",
   "execution_count": null,
   "id": "2a263d21-6a7f-44d8-85cf-2fe8d2cbd165",
   "metadata": {},
   "outputs": [],
   "source": []
  }
 ],
 "metadata": {
  "kernelspec": {
   "display_name": "base",
   "language": "python",
   "name": "python3"
  },
  "language_info": {
   "codemirror_mode": {
    "name": "ipython",
    "version": 3
   },
   "file_extension": ".py",
   "mimetype": "text/x-python",
   "name": "python",
   "nbconvert_exporter": "python",
   "pygments_lexer": "ipython3",
   "version": "3.8.8"
  }
 },
 "nbformat": 4,
 "nbformat_minor": 5
}
