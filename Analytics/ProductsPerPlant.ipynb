{
 "cells": [
  {
   "cell_type": "code",
   "execution_count": 7,
   "id": "0e6f5fd1-a70a-486a-91f6-d4f6ae7c5a12",
   "metadata": {},
   "outputs": [],
   "source": [
    "import numpy as np\n",
    "import pandas as pd\n",
    "import matplotlib.pyplot as plt"
   ]
  },
  {
   "cell_type": "markdown",
   "id": "5e6ca69d-5cb6-4c53-9488-f2d2df5c9aae",
   "metadata": {},
   "source": [
    "## Tabla Productos por cada Planta"
   ]
  },
  {
   "cell_type": "markdown",
   "id": "25777b82-171e-4054-85fa-9e7b64dfbb06",
   "metadata": {},
   "source": [
    "Esta tabla enumera todas las combinaciones de productos y almacén admitidas."
   ]
  },
  {
   "cell_type": "code",
   "execution_count": 8,
   "id": "df281e11-9874-4a86-bb79-9472af9c2290",
   "metadata": {},
   "outputs": [],
   "source": [
    "products = pd.read_excel(\"data.xlsx\", sheet_name = \"ProductsPerPlant\")\n",
    "\n",
    "products.columns = [\"Planta\", \"Producto\"]\n",
    "products = products.replace({\"[^\\d.]\": \"\"}, regex = True).astype(int)"
   ]
  },
  {
   "cell_type": "code",
   "execution_count": 9,
   "id": "95987441",
   "metadata": {},
   "outputs": [],
   "source": [
    "products = products[products[\"Planta\"] <= 15]"
   ]
  },
  {
   "cell_type": "markdown",
   "id": "0d2ea9c2-4f1c-4dae-b0fa-a73028862d0c",
   "metadata": {},
   "source": [
    "*¿La tabla contiene filas duplicadas? Si tiene filas duplicadas, deben ser eliminadas.*"
   ]
  },
  {
   "cell_type": "code",
   "execution_count": 14,
   "id": "511889ee",
   "metadata": {},
   "outputs": [
    {
     "name": "stdout",
     "output_type": "stream",
     "text": [
      "La tabla no tiene filas duplicadas.\n"
     ]
    }
   ],
   "source": [
    "if __name__ == \"__main__\":\n",
    "    if products.duplicated().any():\n",
    "        print(\"La tabla tiene filas duplicadas.\")\n",
    "        products.drop_duplicates(inplace = True)\n",
    "    else:\n",
    "        print(\"La tabla no tiene filas duplicadas.\")\n"
   ]
  },
  {
   "cell_type": "markdown",
   "id": "55fb1bcd",
   "metadata": {},
   "source": [
    "*¿La tabla tiene valores nulos? Si tiene valones nulos, las filas que los contienen deben ser eliminadas.*"
   ]
  },
  {
   "cell_type": "code",
   "execution_count": 11,
   "id": "b0f238bb",
   "metadata": {},
   "outputs": [
    {
     "name": "stdout",
     "output_type": "stream",
     "text": [
      "La tabla no tiene valores nulos.\n"
     ]
    }
   ],
   "source": [
    "if __name__ == \"__main__\":\n",
    "    if products.isna().any(axis = None):\n",
    "        print(\"La tabla tiene valores nulos.\")\n",
    "        products.dropna(axis = 1, inplace = True)\n",
    "    else:\n",
    "        print(\"La tabla no tiene valores nulos.\")"
   ]
  },
  {
   "cell_type": "code",
   "execution_count": 12,
   "id": "dff6b5b6",
   "metadata": {},
   "outputs": [
    {
     "data": {
      "text/html": [
       "<div>\n",
       "<style scoped>\n",
       "    .dataframe tbody tr th:only-of-type {\n",
       "        vertical-align: middle;\n",
       "    }\n",
       "\n",
       "    .dataframe tbody tr th {\n",
       "        vertical-align: top;\n",
       "    }\n",
       "\n",
       "    .dataframe thead th {\n",
       "        text-align: right;\n",
       "    }\n",
       "</style>\n",
       "<table border=\"1\" class=\"dataframe\">\n",
       "  <thead>\n",
       "    <tr style=\"text-align: right;\">\n",
       "      <th></th>\n",
       "      <th>Recuento de Productos</th>\n",
       "    </tr>\n",
       "    <tr>\n",
       "      <th>Planta</th>\n",
       "      <th></th>\n",
       "    </tr>\n",
       "  </thead>\n",
       "  <tbody>\n",
       "    <tr>\n",
       "      <th>1</th>\n",
       "      <td>220</td>\n",
       "    </tr>\n",
       "    <tr>\n",
       "      <th>2</th>\n",
       "      <td>116</td>\n",
       "    </tr>\n",
       "    <tr>\n",
       "      <th>3</th>\n",
       "      <td>781</td>\n",
       "    </tr>\n",
       "    <tr>\n",
       "      <th>4</th>\n",
       "      <td>134</td>\n",
       "    </tr>\n",
       "    <tr>\n",
       "      <th>5</th>\n",
       "      <td>127</td>\n",
       "    </tr>\n",
       "    <tr>\n",
       "      <th>6</th>\n",
       "      <td>26</td>\n",
       "    </tr>\n",
       "    <tr>\n",
       "      <th>7</th>\n",
       "      <td>29</td>\n",
       "    </tr>\n",
       "    <tr>\n",
       "      <th>8</th>\n",
       "      <td>21</td>\n",
       "    </tr>\n",
       "    <tr>\n",
       "      <th>9</th>\n",
       "      <td>9</td>\n",
       "    </tr>\n",
       "    <tr>\n",
       "      <th>10</th>\n",
       "      <td>121</td>\n",
       "    </tr>\n",
       "    <tr>\n",
       "      <th>11</th>\n",
       "      <td>96</td>\n",
       "    </tr>\n",
       "    <tr>\n",
       "      <th>12</th>\n",
       "      <td>57</td>\n",
       "    </tr>\n",
       "    <tr>\n",
       "      <th>13</th>\n",
       "      <td>150</td>\n",
       "    </tr>\n",
       "    <tr>\n",
       "      <th>14</th>\n",
       "      <td>3</td>\n",
       "    </tr>\n",
       "    <tr>\n",
       "      <th>15</th>\n",
       "      <td>1</td>\n",
       "    </tr>\n",
       "  </tbody>\n",
       "</table>\n",
       "</div>"
      ],
      "text/plain": [
       "        Recuento de Productos\n",
       "Planta                       \n",
       "1                         220\n",
       "2                         116\n",
       "3                         781\n",
       "4                         134\n",
       "5                         127\n",
       "6                          26\n",
       "7                          29\n",
       "8                          21\n",
       "9                           9\n",
       "10                        121\n",
       "11                         96\n",
       "12                         57\n",
       "13                        150\n",
       "14                          3\n",
       "15                          1"
      ]
     },
     "execution_count": 12,
     "metadata": {},
     "output_type": "execute_result"
    }
   ],
   "source": [
    "g1 = products.groupby(by = \"Planta\").agg({\"Producto\": np.size}).rename(columns = {\"Producto\": \"Recuento de Productos\"})\n",
    "g1"
   ]
  },
  {
   "cell_type": "code",
   "execution_count": 13,
   "id": "dfab11bc-2075-424d-ab80-69d74f827a5c",
   "metadata": {},
   "outputs": [
    {
     "data": {
      "image/png": "[encoded data removed]",
      "text/plain": [
       "<Figure size 648x504 with 1 Axes>"
      ]
     },
     "metadata": {},
     "output_type": "display_data"
    }
   ],
   "source": [
    "if __name__ == \"__main__\":\n",
    "    plt.style.use(\"seaborn-darkgrid\")\n",
    "    plt.figure(figsize = (9, 7))\n",
    "    plt.bar(g1.index, g1[\"Recuento de Productos\"])\n",
    "    plt.xlabel(\"Planta\")\n",
    "    plt.ylabel(\"Recuento de Productos\")"
   ]
  },
  {
   "cell_type": "code",
   "execution_count": null,
   "id": "5ca970b9-56a6-4c05-958d-4c1478c69b42",
   "metadata": {},
   "outputs": [],
   "source": []
  }
 ],
 "metadata": {
  "kernelspec": {
   "display_name": "base",
   "language": "python",
   "name": "python3"
  },
  "language_info": {
   "codemirror_mode": {
    "name": "ipython",
    "version": 3
   },
   "file_extension": ".py",
   "mimetype": "text/x-python",
   "name": "python",
   "nbconvert_exporter": "python",
   "pygments_lexer": "ipython3",
   "version": "3.8.8"
  }
 },
 "nbformat": 4,
 "nbformat_minor": 5
}
