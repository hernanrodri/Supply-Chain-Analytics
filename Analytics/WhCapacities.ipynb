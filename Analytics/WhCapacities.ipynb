{
 "cells": [
  {
   "cell_type": "code",
   "execution_count": 1,
   "id": "da992331-946b-4e74-9070-eea7d7deb3f8",
   "metadata": {},
   "outputs": [],
   "source": [
    "import numpy as np\n",
    "import pandas as pd\n",
    "import sys\n",
    "import os"
   ]
  },
  {
   "cell_type": "markdown",
   "id": "8cf013c8-3f94-4b78-b4cc-f96c205e4bf7",
   "metadata": {},
   "source": [
    "## Tabla Capacidad de Almacenaje"
   ]
  },
  {
   "cell_type": "markdown",
   "id": "80913740-b703-4e5b-97b9-1179430c934d",
   "metadata": {},
   "source": [
    "La capacidad de almacenaje es el número máximo de pedidos que se pueden procesar por cada planta, no depende de productos específicos."
   ]
  },
  {
   "cell_type": "code",
   "execution_count": 2,
   "id": "46088608-487b-468f-beeb-9c09eb13a2c7",
   "metadata": {},
   "outputs": [],
   "source": [
    "capacidad_almacenaje = pd.read_excel(\"data.xlsx\", sheet_name = \"WhCapacities\")\n",
    "\n",
    "capacidad_almacenaje.columns = [\"Planta\", \"Capacidad [pedidos/día]\"]"
   ]
  },
  {
   "cell_type": "code",
   "execution_count": 3,
   "id": "522b8843-f968-4cb1-ab39-c9873528e606",
   "metadata": {},
   "outputs": [
    {
     "name": "stdout",
     "output_type": "stream",
     "text": [
      "<class 'pandas.core.frame.DataFrame'>\n",
      "RangeIndex: 19 entries, 0 to 18\n",
      "Data columns (total 2 columns):\n",
      " #   Column                   Non-Null Count  Dtype \n",
      "---  ------                   --------------  ----- \n",
      " 0   Planta                   19 non-null     object\n",
      " 1   Capacidad [pedidos/día]  19 non-null     int64 \n",
      "dtypes: int64(1), object(1)\n",
      "memory usage: 432.0+ bytes\n"
     ]
    }
   ],
   "source": [
    "capacidad_almacenaje.info()"
   ]
  },
  {
   "cell_type": "markdown",
   "id": "19adb216-89da-4dba-a6be-bba8ea7ff8f7",
   "metadata": {},
   "source": [
    "*¿La tabla contiene filas duplicadas?*"
   ]
  },
  {
   "cell_type": "code",
   "execution_count": 4,
   "id": "be774919-50cc-4435-b058-eaf50242dcd0",
   "metadata": {},
   "outputs": [
    {
     "data": {
      "text/plain": [
       "False"
      ]
     },
     "execution_count": 4,
     "metadata": {},
     "output_type": "execute_result"
    }
   ],
   "source": [
    "capacidad_almacenaje.duplicated().any()"
   ]
  },
  {
   "cell_type": "code",
   "execution_count": 5,
   "id": "34547b6d-0a9e-45d2-b651-ae4deb121e3b",
   "metadata": {},
   "outputs": [
    {
     "data": {
      "text/html": [
       "<div>\n",
       "<style scoped>\n",
       "    .dataframe tbody tr th:only-of-type {\n",
       "        vertical-align: middle;\n",
       "    }\n",
       "\n",
       "    .dataframe tbody tr th {\n",
       "        vertical-align: top;\n",
       "    }\n",
       "\n",
       "    .dataframe thead th {\n",
       "        text-align: right;\n",
       "    }\n",
       "</style>\n",
       "<table border=\"1\" class=\"dataframe\">\n",
       "  <thead>\n",
       "    <tr style=\"text-align: right;\">\n",
       "      <th></th>\n",
       "      <th>Planta</th>\n",
       "      <th>Capacidad [pedidos/día]</th>\n",
       "    </tr>\n",
       "  </thead>\n",
       "  <tbody>\n",
       "    <tr>\n",
       "      <th>0</th>\n",
       "      <td>15</td>\n",
       "      <td>11</td>\n",
       "    </tr>\n",
       "    <tr>\n",
       "      <th>3</th>\n",
       "      <td>5</td>\n",
       "      <td>385</td>\n",
       "    </tr>\n",
       "    <tr>\n",
       "      <th>4</th>\n",
       "      <td>2</td>\n",
       "      <td>138</td>\n",
       "    </tr>\n",
       "    <tr>\n",
       "      <th>5</th>\n",
       "      <td>1</td>\n",
       "      <td>1070</td>\n",
       "    </tr>\n",
       "    <tr>\n",
       "      <th>6</th>\n",
       "      <td>6</td>\n",
       "      <td>49</td>\n",
       "    </tr>\n",
       "    <tr>\n",
       "      <th>7</th>\n",
       "      <td>10</td>\n",
       "      <td>118</td>\n",
       "    </tr>\n",
       "    <tr>\n",
       "      <th>8</th>\n",
       "      <td>7</td>\n",
       "      <td>265</td>\n",
       "    </tr>\n",
       "    <tr>\n",
       "      <th>9</th>\n",
       "      <td>14</td>\n",
       "      <td>549</td>\n",
       "    </tr>\n",
       "    <tr>\n",
       "      <th>11</th>\n",
       "      <td>12</td>\n",
       "      <td>209</td>\n",
       "    </tr>\n",
       "    <tr>\n",
       "      <th>12</th>\n",
       "      <td>11</td>\n",
       "      <td>332</td>\n",
       "    </tr>\n",
       "    <tr>\n",
       "      <th>13</th>\n",
       "      <td>9</td>\n",
       "      <td>11</td>\n",
       "    </tr>\n",
       "    <tr>\n",
       "      <th>14</th>\n",
       "      <td>3</td>\n",
       "      <td>1013</td>\n",
       "    </tr>\n",
       "    <tr>\n",
       "      <th>15</th>\n",
       "      <td>13</td>\n",
       "      <td>490</td>\n",
       "    </tr>\n",
       "    <tr>\n",
       "      <th>17</th>\n",
       "      <td>8</td>\n",
       "      <td>14</td>\n",
       "    </tr>\n",
       "    <tr>\n",
       "      <th>18</th>\n",
       "      <td>4</td>\n",
       "      <td>554</td>\n",
       "    </tr>\n",
       "  </tbody>\n",
       "</table>\n",
       "</div>"
      ],
      "text/plain": [
       "    Planta  Capacidad [pedidos/día]\n",
       "0       15                       11\n",
       "3        5                      385\n",
       "4        2                      138\n",
       "5        1                     1070\n",
       "6        6                       49\n",
       "7       10                      118\n",
       "8        7                      265\n",
       "9       14                      549\n",
       "11      12                      209\n",
       "12      11                      332\n",
       "13       9                       11\n",
       "14       3                     1013\n",
       "15      13                      490\n",
       "17       8                       14\n",
       "18       4                      554"
      ]
     },
     "execution_count": 5,
     "metadata": {},
     "output_type": "execute_result"
    }
   ],
   "source": [
    "values = np.arange(1, 16, 1)\n",
    "\n",
    "capacidad_almacenaje[\"Planta\"] = capacidad_almacenaje[\"Planta\"].replace({\"[^\\d.]\": \"\"}, regex = True).astype(int)\n",
    "capacidad_almacenaje = capacidad_almacenaje.loc[capacidad_almacenaje[\"Planta\"].isin(values), :]\n",
    "\n",
    "capacidad_almacenaje.round(2)"
   ]
  },
  {
   "cell_type": "markdown",
   "id": "163c27ab-0c30-4301-9512-6508f4986178",
   "metadata": {},
   "source": [
    "*Estadística descriptiva de Capacidad [items/día]*"
   ]
  },
  {
   "cell_type": "code",
   "execution_count": 6,
   "id": "354539a7-2576-4412-b104-a260c0a17fda",
   "metadata": {},
   "outputs": [
    {
     "data": {
      "image/png": "[encoded data removed]",
      "text/plain": [
       "<Figure size 648x504 with 1 Axes>"
      ]
     },
     "metadata": {},
     "output_type": "display_data"
    }
   ],
   "source": [
    "sys.path.append(os.path.abspath(\"..\"))\n",
    "\n",
    "from functions import plot_bar\n",
    "\n",
    "plot_bar(\"Planta\", \"Capacidad [pedidos/día]\", capacidad_almacenaje[\"Planta\"], capacidad_almacenaje[\"Capacidad [pedidos/día]\"])"
   ]
  },
  {
   "cell_type": "code",
   "execution_count": null,
   "id": "392671ef-d5b8-4df2-b84f-a67204f05320",
   "metadata": {},
   "outputs": [],
   "source": []
  }
 ],
 "metadata": {
  "kernelspec": {
   "display_name": "base",
   "language": "python",
   "name": "python3"
  },
  "language_info": {
   "codemirror_mode": {
    "name": "ipython",
    "version": 3
   },
   "file_extension": ".py",
   "mimetype": "text/x-python",
   "name": "python",
   "nbconvert_exporter": "python",
   "pygments_lexer": "ipython3",
   "version": "3.8.8"
  }
 },
 "nbformat": 4,
 "nbformat_minor": 5
}
