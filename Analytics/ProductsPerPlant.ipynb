{
 "cells": [
  {
   "cell_type": "code",
   "execution_count": 1,
   "id": "0e6f5fd1-a70a-486a-91f6-d4f6ae7c5a12",
   "metadata": {},
   "outputs": [],
   "source": [
    "import numpy as np\n",
    "import pandas as pd\n",
    "import sys\n",
    "import os"
   ]
  },
  {
   "cell_type": "markdown",
   "id": "5e6ca69d-5cb6-4c53-9488-f2d2df5c9aae",
   "metadata": {},
   "source": [
    "## Tabla Productos por cada Planta"
   ]
  },
  {
   "cell_type": "markdown",
   "id": "25777b82-171e-4054-85fa-9e7b64dfbb06",
   "metadata": {},
   "source": [
    "Esta tabla enumera todas las combinaciones de productos y almacén admitidas."
   ]
  },
  {
   "cell_type": "code",
   "execution_count": 2,
   "id": "df281e11-9874-4a86-bb79-9472af9c2290",
   "metadata": {},
   "outputs": [],
   "source": [
    "productos_por_planta = pd.read_excel(\"data.xlsx\", sheet_name = \"ProductsPerPlant\")\n",
    "\n",
    "productos_por_planta.columns = [\"Planta\", \"Producto\"]"
   ]
  },
  {
   "cell_type": "code",
   "execution_count": 3,
   "id": "668284cf-f256-4604-83d0-a5ef0bfafb7d",
   "metadata": {},
   "outputs": [
    {
     "name": "stdout",
     "output_type": "stream",
     "text": [
      "<class 'pandas.core.frame.DataFrame'>\n",
      "RangeIndex: 2036 entries, 0 to 2035\n",
      "Data columns (total 2 columns):\n",
      " #   Column    Non-Null Count  Dtype \n",
      "---  ------    --------------  ----- \n",
      " 0   Planta    2036 non-null   object\n",
      " 1   Producto  2036 non-null   int64 \n",
      "dtypes: int64(1), object(1)\n",
      "memory usage: 31.9+ KB\n"
     ]
    }
   ],
   "source": [
    "productos_por_planta.info()"
   ]
  },
  {
   "cell_type": "markdown",
   "id": "0d2ea9c2-4f1c-4dae-b0fa-a73028862d0c",
   "metadata": {},
   "source": [
    "*¿La tabla contiene filas duplicadas?*"
   ]
  },
  {
   "cell_type": "code",
   "execution_count": 4,
   "id": "92aec889-53fb-4123-9116-0a45698bb32a",
   "metadata": {},
   "outputs": [
    {
     "data": {
      "text/plain": [
       "False"
      ]
     },
     "execution_count": 4,
     "metadata": {},
     "output_type": "execute_result"
    }
   ],
   "source": [
    "productos_por_planta.duplicated().any()"
   ]
  },
  {
   "cell_type": "code",
   "execution_count": 5,
   "id": "ccbfdb6b-7605-420a-864f-066927612d71",
   "metadata": {},
   "outputs": [
    {
     "data": {
      "text/html": [
       "<div>\n",
       "<style scoped>\n",
       "    .dataframe tbody tr th:only-of-type {\n",
       "        vertical-align: middle;\n",
       "    }\n",
       "\n",
       "    .dataframe tbody tr th {\n",
       "        vertical-align: top;\n",
       "    }\n",
       "\n",
       "    .dataframe thead th {\n",
       "        text-align: right;\n",
       "    }\n",
       "</style>\n",
       "<table border=\"1\" class=\"dataframe\">\n",
       "  <thead>\n",
       "    <tr style=\"text-align: right;\">\n",
       "      <th></th>\n",
       "      <th>Planta</th>\n",
       "      <th>Producto</th>\n",
       "    </tr>\n",
       "  </thead>\n",
       "  <tbody>\n",
       "    <tr>\n",
       "      <th>0</th>\n",
       "      <td>15</td>\n",
       "      <td>1698815</td>\n",
       "    </tr>\n",
       "    <tr>\n",
       "      <th>33</th>\n",
       "      <td>5</td>\n",
       "      <td>1650942</td>\n",
       "    </tr>\n",
       "    <tr>\n",
       "      <th>34</th>\n",
       "      <td>5</td>\n",
       "      <td>1650946</td>\n",
       "    </tr>\n",
       "    <tr>\n",
       "      <th>35</th>\n",
       "      <td>5</td>\n",
       "      <td>1656871</td>\n",
       "    </tr>\n",
       "    <tr>\n",
       "      <th>36</th>\n",
       "      <td>5</td>\n",
       "      <td>1656873</td>\n",
       "    </tr>\n",
       "    <tr>\n",
       "      <th>...</th>\n",
       "      <td>...</td>\n",
       "      <td>...</td>\n",
       "    </tr>\n",
       "    <tr>\n",
       "      <th>2031</th>\n",
       "      <td>4</td>\n",
       "      <td>1699951</td>\n",
       "    </tr>\n",
       "    <tr>\n",
       "      <th>2032</th>\n",
       "      <td>4</td>\n",
       "      <td>1699952</td>\n",
       "    </tr>\n",
       "    <tr>\n",
       "      <th>2033</th>\n",
       "      <td>4</td>\n",
       "      <td>1699953</td>\n",
       "    </tr>\n",
       "    <tr>\n",
       "      <th>2034</th>\n",
       "      <td>4</td>\n",
       "      <td>1699954</td>\n",
       "    </tr>\n",
       "    <tr>\n",
       "      <th>2035</th>\n",
       "      <td>4</td>\n",
       "      <td>1699974</td>\n",
       "    </tr>\n",
       "  </tbody>\n",
       "</table>\n",
       "<p>1891 rows × 2 columns</p>\n",
       "</div>"
      ],
      "text/plain": [
       "      Planta  Producto\n",
       "0         15   1698815\n",
       "33         5   1650942\n",
       "34         5   1650946\n",
       "35         5   1656871\n",
       "36         5   1656873\n",
       "...      ...       ...\n",
       "2031       4   1699951\n",
       "2032       4   1699952\n",
       "2033       4   1699953\n",
       "2034       4   1699954\n",
       "2035       4   1699974\n",
       "\n",
       "[1891 rows x 2 columns]"
      ]
     },
     "execution_count": 5,
     "metadata": {},
     "output_type": "execute_result"
    }
   ],
   "source": [
    "values = np.arange(1, 16, 1)\n",
    "\n",
    "productos_por_planta[\"Planta\"] = productos_por_planta[\"Planta\"].replace({\"[^\\d.]\": \"\"}, regex = True).astype(int)\n",
    "productos_por_planta = productos_por_planta.loc[productos_por_planta[\"Planta\"].isin(values), :]\n",
    "\n",
    "productos_por_planta"
   ]
  },
  {
   "cell_type": "markdown",
   "id": "d2710dbc-4b3f-496f-ab7f-9bd186532614",
   "metadata": {},
   "source": [
    "*Estadística descriptiva de Recuento de Productos*"
   ]
  },
  {
   "cell_type": "code",
   "execution_count": 6,
   "id": "dfab11bc-2075-424d-ab80-69d74f827a5c",
   "metadata": {},
   "outputs": [
    {
     "data": {
      "image/png": "[encoded data removed]",
      "text/plain": [
       "<Figure size 648x504 with 1 Axes>"
      ]
     },
     "metadata": {},
     "output_type": "display_data"
    }
   ],
   "source": [
    "productos_agrup_por_planta = productos_por_planta.groupby(by = \"Planta\").agg({\"Planta\": \"size\"}).rename(columns = {\"Planta\": \"Recuento de Productos\"})\n",
    "\n",
    "sys.path.append(os.path.abspath(\"..\"))\n",
    "\n",
    "from functions import plot_bar\n",
    "\n",
    "plot_bar(\"Planta\", \"Recuento de Productos\", productos_agrup_por_planta.index, productos_agrup_por_planta[\"Recuento de Productos\"])"
   ]
  },
  {
   "cell_type": "code",
   "execution_count": null,
   "id": "5ca970b9-56a6-4c05-958d-4c1478c69b42",
   "metadata": {},
   "outputs": [],
   "source": []
  }
 ],
 "metadata": {
  "kernelspec": {
   "display_name": "base",
   "language": "python",
   "name": "python3"
  },
  "language_info": {
   "codemirror_mode": {
    "name": "ipython",
    "version": 3
   },
   "file_extension": ".py",
   "mimetype": "text/x-python",
   "name": "python",
   "nbconvert_exporter": "python",
   "pygments_lexer": "ipython3",
   "version": "3.8.8"
  }
 },
 "nbformat": 4,
 "nbformat_minor": 5
}
