{
 "cells": [
  {
   "cell_type": "code",
   "execution_count": 1,
   "id": "16b8a089",
   "metadata": {},
   "outputs": [],
   "source": [
    "import numpy as np\n",
    "import pandas as pd\n",
    "import matplotlib.pyplot as plt\n",
    "import import_ipynb\n",
    "\n",
    "plt.style.use(\"seaborn-darkgrid\")"
   ]
  },
  {
   "cell_type": "code",
   "execution_count": 2,
   "id": "55f87b17-1617-49f5-8c24-ba2052c15a67",
   "metadata": {},
   "outputs": [
    {
     "name": "stdout",
     "output_type": "stream",
     "text": [
      "importing Jupyter notebook from Orders.ipynb\n",
      "importing Jupyter notebook from Freights.ipynb\n",
      "importing Jupyter notebook from Customers.ipynb\n",
      "importing Jupyter notebook from PlantPorts.ipynb\n",
      "importing Jupyter notebook from ProductsPerPlant.ipynb\n",
      "importing Jupyter notebook from WhCapacities.ipynb\n",
      "importing Jupyter notebook from WhCosts.ipynb\n"
     ]
    }
   ],
   "source": [
    "import Orders, Freights\n",
    "import Customers, PlantPorts, ProductsPerPlant, WhCapacities, WhCosts"
   ]
  },
  {
   "cell_type": "markdown",
   "id": "e3bed612-3a5e-4276-9e62-4cc4031a4c76",
   "metadata": {},
   "source": [
    "# 2da Etapa: Optimización"
   ]
  },
  {
   "cell_type": "markdown",
   "id": "b41e61cc-bc3e-48c7-814f-ce81101a79da",
   "metadata": {},
   "source": [
    "*Función Objetivo*\\\n",
    "Se desea conocer un conjunto de plantas de almacenaje, puertos de origen y puertos de destino que minimicen el costo total de la cadena de suministro.\n",
    "\n",
    "- q: Cantidad de items en cada pedido [items/pedido]\n",
    "- w: Peso [kg/item]\n",
    "- F: Peso máximo [kg/item]\n",
    "- P: Costo de almacenamiento [USD/item]\n",
    "- M: Costo fijo de transporte [USD/kg]\n",
    "- X: Costo de almacenamiento [USD/pedido]\n",
    "- Y: Costo de transporte [USD/pedido]\n",
    "- Z: Costo total de la cadena de suministro [USD/pedido]\n",
    "\n",
    "Subíndices:\n",
    "- k: ID de pedido\n",
    "- i: ID de planta de almacenamiento\n",
    "- p: ID de puerto de origen\n",
    "- j: ID de puerto de destino\n",
    "- c: ID de transportista\n",
    "- s: Nivel de servicio\n",
    "- t: Tiempo de envío [días]\n",
    "- m: Modo de transporte (aire o tierra)"
   ]
  },
  {
   "cell_type": "markdown",
   "id": "4decbf8f",
   "metadata": {},
   "source": [
    "### Costos del Almacenamiento\n",
    "\n"
   ]
  },
  {
   "cell_type": "markdown",
   "id": "ef7ff27a",
   "metadata": {},
   "source": [
    "Se deben sumar todos los costos de almacenamiento [USD/pedido] para cada ID Planta.\n",
    "\n",
    "$$ X_{i} = \\sum_{k}{(q_{k}*P_i)} $$"
   ]
  },
  {
   "cell_type": "code",
   "execution_count": 3,
   "id": "83111be2",
   "metadata": {},
   "outputs": [
    {
     "data": {
      "text/html": [
       "<div>\n",
       "<style scoped>\n",
       "    .dataframe tbody tr th:only-of-type {\n",
       "        vertical-align: middle;\n",
       "    }\n",
       "\n",
       "    .dataframe tbody tr th {\n",
       "        vertical-align: top;\n",
       "    }\n",
       "\n",
       "    .dataframe thead tr th {\n",
       "        text-align: left;\n",
       "    }\n",
       "\n",
       "    .dataframe thead tr:last-of-type th {\n",
       "        text-align: right;\n",
       "    }\n",
       "</style>\n",
       "<table border=\"1\" class=\"dataframe\">\n",
       "  <thead>\n",
       "    <tr>\n",
       "      <th></th>\n",
       "      <th>Costo [USD/pedido]</th>\n",
       "    </tr>\n",
       "    <tr>\n",
       "      <th></th>\n",
       "      <th>sum</th>\n",
       "    </tr>\n",
       "    <tr>\n",
       "      <th>Planta</th>\n",
       "      <th></th>\n",
       "    </tr>\n",
       "  </thead>\n",
       "  <tbody>\n",
       "    <tr>\n",
       "      <th>3</th>\n",
       "      <td>14806565.92</td>\n",
       "    </tr>\n",
       "    <tr>\n",
       "      <th>4</th>\n",
       "      <td>149.12</td>\n",
       "    </tr>\n",
       "    <tr>\n",
       "      <th>8</th>\n",
       "      <td>144835.65</td>\n",
       "    </tr>\n",
       "    <tr>\n",
       "      <th>9</th>\n",
       "      <td>104096.86</td>\n",
       "    </tr>\n",
       "    <tr>\n",
       "      <th>12</th>\n",
       "      <td>86590.76</td>\n",
       "    </tr>\n",
       "    <tr>\n",
       "      <th>13</th>\n",
       "      <td>20375.42</td>\n",
       "    </tr>\n",
       "  </tbody>\n",
       "</table>\n",
       "</div>"
      ],
      "text/plain": [
       "       Costo [USD/pedido]\n",
       "                      sum\n",
       "Planta                   \n",
       "3             14806565.92\n",
       "4                  149.12\n",
       "8               144835.65\n",
       "9               104096.86\n",
       "12               86590.76\n",
       "13               20375.42"
      ]
     },
     "execution_count": 3,
     "metadata": {},
     "output_type": "execute_result"
    }
   ],
   "source": [
    "#Fusionamos la tabla Pedidos con la tabla Costos de Almacenamiento usando la función Merge de la librería Pandas.\n",
    "df1 = Orders.orders[[\"Planta\", \"Cantidad [Items/pedido]\"]].merge(WhCosts.costs, how = \"inner\", on = \"Planta\")\n",
    "\n",
    "df1[\"Costo [USD/pedido]\"] = df1[\"Cantidad [Items/pedido]\"] * df1[\"Costo [USD/item]\"]\n",
    "\n",
    "g1 = df1.groupby(by = \"Planta\").agg({\"Costo [USD/pedido]\": [\"sum\"]})\n",
    "g1.round(2)"
   ]
  },
  {
   "cell_type": "markdown",
   "id": "55eee97d",
   "metadata": {},
   "source": [
    "### Capacidad del Almacenamiento"
   ]
  },
  {
   "cell_type": "code",
   "execution_count": 4,
   "id": "ae87030c",
   "metadata": {},
   "outputs": [
    {
     "data": {
      "text/html": [
       "<div>\n",
       "<style scoped>\n",
       "    .dataframe tbody tr th:only-of-type {\n",
       "        vertical-align: middle;\n",
       "    }\n",
       "\n",
       "    .dataframe tbody tr th {\n",
       "        vertical-align: top;\n",
       "    }\n",
       "\n",
       "    .dataframe thead th {\n",
       "        text-align: right;\n",
       "    }\n",
       "</style>\n",
       "<table border=\"1\" class=\"dataframe\">\n",
       "  <thead>\n",
       "    <tr style=\"text-align: right;\">\n",
       "      <th></th>\n",
       "      <th>Capacidad [pedidos/día]</th>\n",
       "    </tr>\n",
       "    <tr>\n",
       "      <th>Planta</th>\n",
       "      <th></th>\n",
       "    </tr>\n",
       "  </thead>\n",
       "  <tbody>\n",
       "    <tr>\n",
       "      <th>3</th>\n",
       "      <td>1013</td>\n",
       "    </tr>\n",
       "    <tr>\n",
       "      <th>4</th>\n",
       "      <td>554</td>\n",
       "    </tr>\n",
       "    <tr>\n",
       "      <th>8</th>\n",
       "      <td>14</td>\n",
       "    </tr>\n",
       "    <tr>\n",
       "      <th>9</th>\n",
       "      <td>11</td>\n",
       "    </tr>\n",
       "    <tr>\n",
       "      <th>12</th>\n",
       "      <td>209</td>\n",
       "    </tr>\n",
       "    <tr>\n",
       "      <th>13</th>\n",
       "      <td>490</td>\n",
       "    </tr>\n",
       "  </tbody>\n",
       "</table>\n",
       "</div>"
      ],
      "text/plain": [
       "        Capacidad [pedidos/día]\n",
       "Planta                         \n",
       "3                          1013\n",
       "4                           554\n",
       "8                            14\n",
       "9                            11\n",
       "12                          209\n",
       "13                          490"
      ]
     },
     "execution_count": 4,
     "metadata": {},
     "output_type": "execute_result"
    }
   ],
   "source": [
    "#Hay que fusionar la tabla Pedidos con la tabla Capacidad usando la función Merge de la librería Pandas.\n",
    "df2 = Orders.orders[[\"Pedido\", \"Planta\"]].merge(WhCapacities.capacities, how = \"inner\", on = \"Planta\")\n",
    "\n",
    "g2 = df2.groupby(by = \"Planta\").agg({\"Capacidad [pedidos/día]\": np.mean})\n",
    "g2"
   ]
  },
  {
   "cell_type": "code",
   "execution_count": 5,
   "id": "69b53b3c",
   "metadata": {},
   "outputs": [
    {
     "data": {
      "text/html": [
       "<div>\n",
       "<style scoped>\n",
       "    .dataframe tbody tr th:only-of-type {\n",
       "        vertical-align: middle;\n",
       "    }\n",
       "\n",
       "    .dataframe tbody tr th {\n",
       "        vertical-align: top;\n",
       "    }\n",
       "\n",
       "    .dataframe thead th {\n",
       "        text-align: right;\n",
       "    }\n",
       "</style>\n",
       "<table border=\"1\" class=\"dataframe\">\n",
       "  <thead>\n",
       "    <tr style=\"text-align: right;\">\n",
       "      <th></th>\n",
       "      <th>Recuento</th>\n",
       "    </tr>\n",
       "    <tr>\n",
       "      <th>Planta</th>\n",
       "      <th></th>\n",
       "    </tr>\n",
       "  </thead>\n",
       "  <tbody>\n",
       "    <tr>\n",
       "      <th>3</th>\n",
       "      <td>8541</td>\n",
       "    </tr>\n",
       "    <tr>\n",
       "      <th>4</th>\n",
       "      <td>1</td>\n",
       "    </tr>\n",
       "    <tr>\n",
       "      <th>8</th>\n",
       "      <td>102</td>\n",
       "    </tr>\n",
       "    <tr>\n",
       "      <th>9</th>\n",
       "      <td>12</td>\n",
       "    </tr>\n",
       "    <tr>\n",
       "      <th>12</th>\n",
       "      <td>300</td>\n",
       "    </tr>\n",
       "    <tr>\n",
       "      <th>13</th>\n",
       "      <td>86</td>\n",
       "    </tr>\n",
       "  </tbody>\n",
       "</table>\n",
       "</div>"
      ],
      "text/plain": [
       "        Recuento\n",
       "Planta          \n",
       "3           8541\n",
       "4              1\n",
       "8            102\n",
       "9             12\n",
       "12           300\n",
       "13            86"
      ]
     },
     "execution_count": 5,
     "metadata": {},
     "output_type": "execute_result"
    }
   ],
   "source": [
    "g2 = df2.groupby(by = \"Planta\").agg({\"Pedido\": np.size}).rename(columns = {\"Pedido\": \"Recuento\"})\n",
    "\n",
    "g2"
   ]
  },
  {
   "cell_type": "markdown",
   "id": "5a1899d6",
   "metadata": {},
   "source": [
    "$$ \\sum_{k}{o_{ki}} \\leq \\ C_{i} $$"
   ]
  },
  {
   "cell_type": "code",
   "execution_count": 6,
   "id": "e75e2ba4",
   "metadata": {},
   "outputs": [],
   "source": [
    "\n",
    "\n",
    "df2[\"Recuento de Pedidos\"] = df2.groupby(by = [\"Planta\"])[\"Pedido\"].transform(\"sum\")\n",
    "df2[\"Recuento de Pedidos\"] = np.where(df2[\"Recuento de Pedidos\"] <= df2[\"Capacidad [pedidos/día]\"], df2[\"Recuento de Pedidos\"], df2[\"Capacidad [pedidos/día]\"])"
   ]
  },
  {
   "cell_type": "markdown",
   "id": "45316e36",
   "metadata": {},
   "source": [
    "### Costos de Transporte"
   ]
  },
  {
   "cell_type": "code",
   "execution_count": 7,
   "id": "eed14705",
   "metadata": {},
   "outputs": [
    {
     "data": {
      "text/html": [
       "<div>\n",
       "<style scoped>\n",
       "    .dataframe tbody tr th:only-of-type {\n",
       "        vertical-align: middle;\n",
       "    }\n",
       "\n",
       "    .dataframe tbody tr th {\n",
       "        vertical-align: top;\n",
       "    }\n",
       "\n",
       "    .dataframe thead tr th {\n",
       "        text-align: left;\n",
       "    }\n",
       "\n",
       "    .dataframe thead tr:last-of-type th {\n",
       "        text-align: right;\n",
       "    }\n",
       "</style>\n",
       "<table border=\"1\" class=\"dataframe\">\n",
       "  <thead>\n",
       "    <tr>\n",
       "      <th></th>\n",
       "      <th></th>\n",
       "      <th></th>\n",
       "      <th>Tasa de flete [USD/kg]</th>\n",
       "    </tr>\n",
       "    <tr>\n",
       "      <th></th>\n",
       "      <th></th>\n",
       "      <th></th>\n",
       "      <th>sum</th>\n",
       "    </tr>\n",
       "    <tr>\n",
       "      <th>Planta</th>\n",
       "      <th>Puerto de origen</th>\n",
       "      <th>Puerto de destino</th>\n",
       "      <th></th>\n",
       "    </tr>\n",
       "  </thead>\n",
       "  <tbody>\n",
       "    <tr>\n",
       "      <th>3</th>\n",
       "      <th>4</th>\n",
       "      <th>9</th>\n",
       "      <td>21760.83</td>\n",
       "    </tr>\n",
       "    <tr>\n",
       "      <th>8</th>\n",
       "      <th>4</th>\n",
       "      <th>9</th>\n",
       "      <td>44.04</td>\n",
       "    </tr>\n",
       "    <tr>\n",
       "      <th>9</th>\n",
       "      <th>4</th>\n",
       "      <th>9</th>\n",
       "      <td>5.23</td>\n",
       "    </tr>\n",
       "    <tr>\n",
       "      <th>12</th>\n",
       "      <th>4</th>\n",
       "      <th>9</th>\n",
       "      <td>1175.37</td>\n",
       "    </tr>\n",
       "    <tr>\n",
       "      <th>13</th>\n",
       "      <th>4</th>\n",
       "      <th>9</th>\n",
       "      <td>37.50</td>\n",
       "    </tr>\n",
       "  </tbody>\n",
       "</table>\n",
       "</div>"
      ],
      "text/plain": [
       "                                          Tasa de flete [USD/kg]\n",
       "                                                             sum\n",
       "Planta Puerto de origen Puerto de destino                       \n",
       "3      4                9                               21760.83\n",
       "8      4                9                                  44.04\n",
       "9      4                9                                   5.23\n",
       "12     4                9                                1175.37\n",
       "13     4                9                                  37.50"
      ]
     },
     "execution_count": 7,
     "metadata": {},
     "output_type": "execute_result"
    }
   ],
   "source": [
    "#Hay que fusionar la tabla pedidos con las tablas Fletes y Plantas por Puertos usando la función Merge de la librería Pandas.\n",
    "df3 = pd.merge(Orders.orders, Freights.freights, how = \"inner\", on = [\"Puerto de origen\", \"Puerto de destino\", \"Transportista\", \"Nivel de servicio\"])\n",
    "df3 = pd.merge(df3, PlantPorts.plantports, how = \"inner\", on = [\"Planta\", \"Puerto de origen\"])\n",
    "\n",
    "g3 = df3.groupby(by = [\"Planta\", \"Puerto de origen\", \"Puerto de destino\"]).agg({\"Tasa de flete [USD/kg]\": [\"sum\"]})\n",
    "g3.round(2)"
   ]
  },
  {
   "cell_type": "markdown",
   "id": "0013df09",
   "metadata": {},
   "source": [
    "$$ \\sum_{k}{w_{kpjcstm}} \\leq max \\ F_{kpjcstm} $$"
   ]
  },
  {
   "cell_type": "code",
   "execution_count": 8,
   "id": "0d0be9ff",
   "metadata": {},
   "outputs": [
    {
     "data": {
      "text/html": [
       "<div>\n",
       "<style scoped>\n",
       "    .dataframe tbody tr th:only-of-type {\n",
       "        vertical-align: middle;\n",
       "    }\n",
       "\n",
       "    .dataframe tbody tr th {\n",
       "        vertical-align: top;\n",
       "    }\n",
       "\n",
       "    .dataframe thead th {\n",
       "        text-align: right;\n",
       "    }\n",
       "</style>\n",
       "<table border=\"1\" class=\"dataframe\">\n",
       "  <thead>\n",
       "    <tr style=\"text-align: right;\">\n",
       "      <th></th>\n",
       "      <th></th>\n",
       "      <th></th>\n",
       "      <th>Suma de Peso [kg/item]</th>\n",
       "    </tr>\n",
       "    <tr>\n",
       "      <th>Planta</th>\n",
       "      <th>Puerto de origen</th>\n",
       "      <th>Puerto de destino</th>\n",
       "      <th></th>\n",
       "    </tr>\n",
       "  </thead>\n",
       "  <tbody>\n",
       "    <tr>\n",
       "      <th>3</th>\n",
       "      <th>4</th>\n",
       "      <th>9</th>\n",
       "      <td>9346.49</td>\n",
       "    </tr>\n",
       "    <tr>\n",
       "      <th>8</th>\n",
       "      <th>4</th>\n",
       "      <th>9</th>\n",
       "      <td>20569.99</td>\n",
       "    </tr>\n",
       "    <tr>\n",
       "      <th>9</th>\n",
       "      <th>4</th>\n",
       "      <th>9</th>\n",
       "      <td>20569.99</td>\n",
       "    </tr>\n",
       "    <tr>\n",
       "      <th>12</th>\n",
       "      <th>4</th>\n",
       "      <th>9</th>\n",
       "      <td>6861.98</td>\n",
       "    </tr>\n",
       "    <tr>\n",
       "      <th>13</th>\n",
       "      <th>4</th>\n",
       "      <th>9</th>\n",
       "      <td>20569.99</td>\n",
       "    </tr>\n",
       "  </tbody>\n",
       "</table>\n",
       "</div>"
      ],
      "text/plain": [
       "                                           Suma de Peso [kg/item]\n",
       "Planta Puerto de origen Puerto de destino                        \n",
       "3      4                9                                 9346.49\n",
       "8      4                9                                20569.99\n",
       "9      4                9                                20569.99\n",
       "12     4                9                                 6861.98\n",
       "13     4                9                                20569.99"
      ]
     },
     "execution_count": 8,
     "metadata": {},
     "output_type": "execute_result"
    }
   ],
   "source": [
    "df3[\"Suma de Peso [kg/item]\"] = df3.groupby([\"Puerto de origen\", \"Puerto de destino\", \"Transportista\", \n",
    "                                             \"Nivel de servicio\", \"Envío [días]\", \"Modo de transporte\"])[\"Peso [kg/item]\"].transform(\"sum\")\n",
    "\n",
    "df3[\"Suma de Peso [kg/item]\"] = np.where(df3[\"Suma de Peso [kg/item]\"] <= df3[\"Peso máximo [kg/item]\"], df3[\"Suma de Peso [kg/item]\"], df3[\"Peso máximo [kg/item]\"])\n",
    "\n",
    "\n",
    "g3 = df3.groupby(by = [\"Planta\", \"Puerto de origen\", \"Puerto de destino\"]).agg({\"Suma de Peso [kg/item]\": np.mean})\n",
    "g3.round(2)"
   ]
  },
  {
   "cell_type": "markdown",
   "id": "e9fd67b4",
   "metadata": {},
   "source": [
    "$$Y_{kpjcstm} = \n",
    "     \\begin{cases}\n",
    "        0 &\\quad \\text{para, } s = CRF \\\\\n",
    "        \\frac{w_{kpjcstm}}{\\sum_{k}{w_{kpjcstm}}}*R_{kpjcstm}  &\\quad \\text{para, } s \\neq CRF, m = Tierra \\\\\n",
    "        w_{kpjcstm}*R_{kpjcstm}  &\\quad \\text{para, } s \\neq CRF, m \\neq Tierra \\\\\n",
    "        M_{kpjcstm}  &\\quad \\text{para, }  Y_{kpjcstm} \\lt M_{kpjcstm} \\\\\n",
    "     \\end{cases}\n",
    "$$"
   ]
  },
  {
   "cell_type": "code",
   "execution_count": 9,
   "id": "a97835e3",
   "metadata": {},
   "outputs": [],
   "source": [
    "a = df3[\"Peso [kg/item]\"] / df3[\"Suma de Peso [kg/item]\"] * df3[\"Tasa de flete [USD/kg]\"]\n",
    "b = df3[\"Peso [kg/item]\"] * df3[\"Tasa de flete [USD/kg]\"]\n",
    "c = df3[\"Costo mínimo [USD/kg]\"]\n",
    "\n",
    "df3[\"Costo de transporte [USD/pedido]\"] = np.where(df3[\"Nivel de servicio\"] == \"CRF\", 0, np.where(df3[\"Modo de transporte\"] == \"Tierra\", np.where(a < c, a, c), np.where(b < c, b, c)))"
   ]
  },
  {
   "cell_type": "markdown",
   "id": "6a7e4761",
   "metadata": {},
   "source": [
    "$$ Y_{pj} = \\sum_{cstm}{Y_{pjcstm}} $$"
   ]
  },
  {
   "cell_type": "code",
   "execution_count": 10,
   "id": "0bb5807c",
   "metadata": {},
   "outputs": [
    {
     "data": {
      "text/html": [
       "<div>\n",
       "<style scoped>\n",
       "    .dataframe tbody tr th:only-of-type {\n",
       "        vertical-align: middle;\n",
       "    }\n",
       "\n",
       "    .dataframe tbody tr th {\n",
       "        vertical-align: top;\n",
       "    }\n",
       "\n",
       "    .dataframe thead tr th {\n",
       "        text-align: left;\n",
       "    }\n",
       "\n",
       "    .dataframe thead tr:last-of-type th {\n",
       "        text-align: right;\n",
       "    }\n",
       "</style>\n",
       "<table border=\"1\" class=\"dataframe\">\n",
       "  <thead>\n",
       "    <tr>\n",
       "      <th></th>\n",
       "      <th></th>\n",
       "      <th>Costo de transporte [USD/pedido]</th>\n",
       "    </tr>\n",
       "    <tr>\n",
       "      <th></th>\n",
       "      <th></th>\n",
       "      <th>sum</th>\n",
       "    </tr>\n",
       "    <tr>\n",
       "      <th>Puerto de origen</th>\n",
       "      <th>Puerto de destino</th>\n",
       "      <th></th>\n",
       "    </tr>\n",
       "  </thead>\n",
       "  <tbody>\n",
       "    <tr>\n",
       "      <th>4</th>\n",
       "      <th>9</th>\n",
       "      <td>111527.17</td>\n",
       "    </tr>\n",
       "  </tbody>\n",
       "</table>\n",
       "</div>"
      ],
      "text/plain": [
       "                                   Costo de transporte [USD/pedido]\n",
       "                                                                sum\n",
       "Puerto de origen Puerto de destino                                 \n",
       "4                9                                        111527.17"
      ]
     },
     "execution_count": 10,
     "metadata": {},
     "output_type": "execute_result"
    }
   ],
   "source": [
    "g3 = df3.groupby(by = [\"Puerto de origen\", \"Puerto de destino\"]).agg({\"Costo de transporte [USD/pedido]\": [\"sum\"]})\n",
    "g3.round(2)"
   ]
  },
  {
   "cell_type": "markdown",
   "id": "1a9cee47-983f-4923-86f2-2707be37ef94",
   "metadata": {},
   "source": [
    "### Costos Totales\n",
    "\n",
    "$$ Z_{ipj} = min \\ (X_{i} + Y_{pj}) $$"
   ]
  },
  {
   "cell_type": "markdown",
   "id": "a1847e32",
   "metadata": {},
   "source": [
    "*¿Qué conjunto Planta, Puerto de origen y Puerto de destino tiene la menor Suma de Costo Total?*"
   ]
  },
  {
   "cell_type": "code",
   "execution_count": null,
   "id": "91e0776a",
   "metadata": {},
   "outputs": [],
   "source": [
    "df4 = pd.merge(g1, g3, how = \"cross\")\n",
    "\n",
    "df4[\"Costo total [USD/pedido]\"] = df4[\"Costo [USD/pedido]\"] + df4[\"Costo de transporte [USD/pedido]\"]\n",
    "df4.index = g1.index"
   ]
  },
  {
   "cell_type": "code",
   "execution_count": 12,
   "id": "7fc2db8e",
   "metadata": {},
   "outputs": [
    {
     "data": {
      "text/html": [
       "<div>\n",
       "<style scoped>\n",
       "    .dataframe tbody tr th:only-of-type {\n",
       "        vertical-align: middle;\n",
       "    }\n",
       "\n",
       "    .dataframe tbody tr th {\n",
       "        vertical-align: top;\n",
       "    }\n",
       "\n",
       "    .dataframe thead tr th {\n",
       "        text-align: left;\n",
       "    }\n",
       "\n",
       "    .dataframe thead tr:last-of-type th {\n",
       "        text-align: right;\n",
       "    }\n",
       "</style>\n",
       "<table border=\"1\" class=\"dataframe\">\n",
       "  <thead>\n",
       "    <tr>\n",
       "      <th></th>\n",
       "      <th>Costo [USD/pedido]</th>\n",
       "      <th>Costo de transporte [USD/pedido]</th>\n",
       "      <th>Costo total [USD/pedido]</th>\n",
       "    </tr>\n",
       "    <tr>\n",
       "      <th></th>\n",
       "      <th>sum</th>\n",
       "      <th>sum</th>\n",
       "      <th></th>\n",
       "    </tr>\n",
       "    <tr>\n",
       "      <th>Planta</th>\n",
       "      <th></th>\n",
       "      <th></th>\n",
       "      <th></th>\n",
       "    </tr>\n",
       "  </thead>\n",
       "  <tbody>\n",
       "    <tr>\n",
       "      <th>3</th>\n",
       "      <td>14806565.92</td>\n",
       "      <td>111527.17</td>\n",
       "      <td>14918093.09</td>\n",
       "    </tr>\n",
       "    <tr>\n",
       "      <th>4</th>\n",
       "      <td>149.12</td>\n",
       "      <td>111527.17</td>\n",
       "      <td>111676.29</td>\n",
       "    </tr>\n",
       "    <tr>\n",
       "      <th>8</th>\n",
       "      <td>144835.65</td>\n",
       "      <td>111527.17</td>\n",
       "      <td>256362.83</td>\n",
       "    </tr>\n",
       "    <tr>\n",
       "      <th>9</th>\n",
       "      <td>104096.86</td>\n",
       "      <td>111527.17</td>\n",
       "      <td>215624.04</td>\n",
       "    </tr>\n",
       "    <tr>\n",
       "      <th>12</th>\n",
       "      <td>86590.76</td>\n",
       "      <td>111527.17</td>\n",
       "      <td>198117.93</td>\n",
       "    </tr>\n",
       "    <tr>\n",
       "      <th>13</th>\n",
       "      <td>20375.42</td>\n",
       "      <td>111527.17</td>\n",
       "      <td>131902.59</td>\n",
       "    </tr>\n",
       "  </tbody>\n",
       "</table>\n",
       "</div>"
      ],
      "text/plain": [
       "       Costo [USD/pedido] Costo de transporte [USD/pedido]  \\\n",
       "                      sum                              sum   \n",
       "Planta                                                       \n",
       "3             14806565.92                        111527.17   \n",
       "4                  149.12                        111527.17   \n",
       "8               144835.65                        111527.17   \n",
       "9               104096.86                        111527.17   \n",
       "12               86590.76                        111527.17   \n",
       "13               20375.42                        111527.17   \n",
       "\n",
       "       Costo total [USD/pedido]  \n",
       "                                 \n",
       "Planta                           \n",
       "3                   14918093.09  \n",
       "4                     111676.29  \n",
       "8                     256362.83  \n",
       "9                     215624.04  \n",
       "12                    198117.93  \n",
       "13                    131902.59  "
      ]
     },
     "execution_count": 12,
     "metadata": {},
     "output_type": "execute_result"
    }
   ],
   "source": [
    "df4.round(2)"
   ]
  },
  {
   "cell_type": "code",
   "execution_count": 13,
   "id": "a098cf11",
   "metadata": {},
   "outputs": [
    {
     "data": {
      "text/plain": [
       "Text(0, 0.5, 'Costo total [USD/pedido]')"
      ]
     },
     "execution_count": 13,
     "metadata": {},
     "output_type": "execute_result"
    },
    {
     "data": {
      "image/png": "[encoded data removed]",
      "text/plain": [
       "<Figure size 648x504 with 1 Axes>"
      ]
     },
     "metadata": {},
     "output_type": "display_data"
    }
   ],
   "source": [
    "plt.figure(figsize = (9, 7))\n",
    "plt.bar(df4.index, df4[\"Costo total [USD/pedido]\"])\n",
    "plt.xlabel(\"Planta\")\n",
    "plt.ylabel(\"Costo total [USD/pedido]\")"
   ]
  },
  {
   "cell_type": "code",
   "execution_count": 14,
   "id": "fe8caeab",
   "metadata": {},
   "outputs": [
    {
     "data": {
      "text/plain": [
       "'Planta de almacenamiento: 4'"
      ]
     },
     "execution_count": 14,
     "metadata": {},
     "output_type": "execute_result"
    }
   ],
   "source": [
    "p = df4[\"Costo total [USD/pedido]\"].idxmin()\n",
    "\n",
    "\"Planta de almacenamiento: {}\".format(p)"
   ]
  }
 ],
 "metadata": {
  "kernelspec": {
   "display_name": "base",
   "language": "python",
   "name": "python3"
  },
  "language_info": {
   "codemirror_mode": {
    "name": "ipython",
    "version": 3
   },
   "file_extension": ".py",
   "mimetype": "text/x-python",
   "name": "python",
   "nbconvert_exporter": "python",
   "pygments_lexer": "ipython3",
   "version": "3.8.8"
  }
 },
 "nbformat": 4,
 "nbformat_minor": 5
}
