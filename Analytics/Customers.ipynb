{
 "cells": [
  {
   "cell_type": "code",
   "execution_count": 1,
   "id": "df0737cd-b732-435f-a0a7-9bfd587976c2",
   "metadata": {},
   "outputs": [],
   "source": [
    "import numpy as np\n",
    "import pandas as pd\n",
    "import sys\n",
    "import os"
   ]
  },
  {
   "cell_type": "markdown",
   "id": "e43d81f7-cc05-425b-a11a-9ef70fca20b3",
   "metadata": {},
   "source": [
    "## Tabla Clientes por cada Planta"
   ]
  },
  {
   "cell_type": "markdown",
   "id": "f58fcc8a-7c76-4085-b92b-e5b7c467c8e0",
   "metadata": {},
   "source": [
    "Esta tabla enumera todos los casos especiales, en los que el almacén solo puede brindar soporte a un cliente específico, mientras que cualquier otro almacén no registrado en la tabla puede abastecer a cualquier cliente."
   ]
  },
  {
   "cell_type": "code",
   "execution_count": 2,
   "id": "4753b7c3-2b54-42aa-b73c-db3adf5b064c",
   "metadata": {},
   "outputs": [],
   "source": [
    "clientes_por_planta = pd.read_excel(\"data.xlsx\", sheet_name = \"VmiCustomers\")\n",
    "\n",
    "clientes_por_planta.columns = [\"Planta\", \"Cliente\"]"
   ]
  },
  {
   "cell_type": "code",
   "execution_count": 3,
   "id": "9d20cf90-aeff-41df-b396-d427872e0b92",
   "metadata": {},
   "outputs": [
    {
     "name": "stdout",
     "output_type": "stream",
     "text": [
      "<class 'pandas.core.frame.DataFrame'>\n",
      "RangeIndex: 14 entries, 0 to 13\n",
      "Data columns (total 2 columns):\n",
      " #   Column   Non-Null Count  Dtype \n",
      "---  ------   --------------  ----- \n",
      " 0   Planta   14 non-null     object\n",
      " 1   Cliente  14 non-null     object\n",
      "dtypes: object(2)\n",
      "memory usage: 352.0+ bytes\n"
     ]
    }
   ],
   "source": [
    "clientes_por_planta.info()"
   ]
  },
  {
   "cell_type": "markdown",
   "id": "db258b19-26a7-4ff5-b9fe-51a6d05b83f1",
   "metadata": {},
   "source": [
    "*¿La tabla contiene filas duplicadas?*"
   ]
  },
  {
   "cell_type": "code",
   "execution_count": 4,
   "id": "3e1e166d-f2f6-4ec2-ab17-4a567a307c1f",
   "metadata": {},
   "outputs": [
    {
     "data": {
      "text/plain": [
       "False"
      ]
     },
     "execution_count": 4,
     "metadata": {},
     "output_type": "execute_result"
    }
   ],
   "source": [
    "clientes_por_planta.duplicated().any()"
   ]
  },
  {
   "cell_type": "code",
   "execution_count": 5,
   "id": "1cd60e06-f2aa-4c39-aab0-22ee39f9c31d",
   "metadata": {},
   "outputs": [
    {
     "data": {
      "text/html": [
       "<div>\n",
       "<style scoped>\n",
       "    .dataframe tbody tr th:only-of-type {\n",
       "        vertical-align: middle;\n",
       "    }\n",
       "\n",
       "    .dataframe tbody tr th {\n",
       "        vertical-align: top;\n",
       "    }\n",
       "\n",
       "    .dataframe thead th {\n",
       "        text-align: right;\n",
       "    }\n",
       "</style>\n",
       "<table border=\"1\" class=\"dataframe\">\n",
       "  <thead>\n",
       "    <tr style=\"text-align: right;\">\n",
       "      <th></th>\n",
       "      <th>Planta</th>\n",
       "      <th>Cliente</th>\n",
       "    </tr>\n",
       "  </thead>\n",
       "  <tbody>\n",
       "    <tr>\n",
       "      <th>0</th>\n",
       "      <td>2</td>\n",
       "      <td>V5555555555555_16</td>\n",
       "    </tr>\n",
       "    <tr>\n",
       "      <th>1</th>\n",
       "      <td>2</td>\n",
       "      <td>V555555555555555_29</td>\n",
       "    </tr>\n",
       "    <tr>\n",
       "      <th>2</th>\n",
       "      <td>2</td>\n",
       "      <td>V555555555_3</td>\n",
       "    </tr>\n",
       "    <tr>\n",
       "      <th>3</th>\n",
       "      <td>2</td>\n",
       "      <td>V55555555555555_8</td>\n",
       "    </tr>\n",
       "    <tr>\n",
       "      <th>4</th>\n",
       "      <td>2</td>\n",
       "      <td>V55555555_9</td>\n",
       "    </tr>\n",
       "  </tbody>\n",
       "</table>\n",
       "</div>"
      ],
      "text/plain": [
       "   Planta              Cliente\n",
       "0       2    V5555555555555_16\n",
       "1       2  V555555555555555_29\n",
       "2       2         V555555555_3\n",
       "3       2    V55555555555555_8\n",
       "4       2          V55555555_9"
      ]
     },
     "execution_count": 5,
     "metadata": {},
     "output_type": "execute_result"
    }
   ],
   "source": [
    "values = np.arange(1, 16, 1)\n",
    "\n",
    "clientes_por_planta[\"Planta\"] = clientes_por_planta[\"Planta\"].replace({\"[^\\d.]\": \"\"}, regex = True).astype(int)\n",
    "clientes_por_planta = clientes_por_planta.loc[clientes_por_planta[\"Planta\"].isin(values), :]\n",
    "\n",
    "clientes_por_planta.head()"
   ]
  },
  {
   "cell_type": "code",
   "execution_count": 6,
   "id": "5dfdef9c-bba7-442c-92c9-2ac9c64355e0",
   "metadata": {},
   "outputs": [
    {
     "data": {
      "text/html": [
       "<div>\n",
       "<style scoped>\n",
       "    .dataframe tbody tr th:only-of-type {\n",
       "        vertical-align: middle;\n",
       "    }\n",
       "\n",
       "    .dataframe tbody tr th {\n",
       "        vertical-align: top;\n",
       "    }\n",
       "\n",
       "    .dataframe thead th {\n",
       "        text-align: right;\n",
       "    }\n",
       "</style>\n",
       "<table border=\"1\" class=\"dataframe\">\n",
       "  <thead>\n",
       "    <tr style=\"text-align: right;\">\n",
       "      <th></th>\n",
       "      <th>Planta</th>\n",
       "      <th>Cliente</th>\n",
       "    </tr>\n",
       "  </thead>\n",
       "  <tbody>\n",
       "    <tr>\n",
       "      <th>0</th>\n",
       "      <td>1</td>\n",
       "      <td>V5555555555555_16</td>\n",
       "    </tr>\n",
       "    <tr>\n",
       "      <th>1</th>\n",
       "      <td>3</td>\n",
       "      <td>V5555555555555_16</td>\n",
       "    </tr>\n",
       "    <tr>\n",
       "      <th>2</th>\n",
       "      <td>4</td>\n",
       "      <td>V5555555555555_16</td>\n",
       "    </tr>\n",
       "    <tr>\n",
       "      <th>3</th>\n",
       "      <td>5</td>\n",
       "      <td>V5555555555555_16</td>\n",
       "    </tr>\n",
       "    <tr>\n",
       "      <th>4</th>\n",
       "      <td>7</td>\n",
       "      <td>V5555555555555_16</td>\n",
       "    </tr>\n",
       "  </tbody>\n",
       "</table>\n",
       "</div>"
      ],
      "text/plain": [
       "   Planta            Cliente\n",
       "0       1  V5555555555555_16\n",
       "1       3  V5555555555555_16\n",
       "2       4  V5555555555555_16\n",
       "3       5  V5555555555555_16\n",
       "4       7  V5555555555555_16"
      ]
     },
     "execution_count": 6,
     "metadata": {},
     "output_type": "execute_result"
    }
   ],
   "source": [
    "sys.path.append(os.path.abspath(\"..\"))\n",
    "\n",
    "from functions import combined_table\n",
    "\n",
    "planta = values[~np.isin(values, clientes_por_planta[\"Planta\"])]\n",
    "clientes = clientes_por_planta[\"Cliente\"].unique()\n",
    "\n",
    "df = combined_table(\"Planta\", \"Cliente\", planta, clientes)\n",
    "\n",
    "df.head()"
   ]
  },
  {
   "cell_type": "code",
   "execution_count": 7,
   "id": "72396f3c-c23d-41cc-bea1-db5bc3c82055",
   "metadata": {},
   "outputs": [
    {
     "data": {
      "text/html": [
       "<div>\n",
       "<style scoped>\n",
       "    .dataframe tbody tr th:only-of-type {\n",
       "        vertical-align: middle;\n",
       "    }\n",
       "\n",
       "    .dataframe tbody tr th {\n",
       "        vertical-align: top;\n",
       "    }\n",
       "\n",
       "    .dataframe thead th {\n",
       "        text-align: right;\n",
       "    }\n",
       "</style>\n",
       "<table border=\"1\" class=\"dataframe\">\n",
       "  <thead>\n",
       "    <tr style=\"text-align: right;\">\n",
       "      <th></th>\n",
       "      <th>Planta</th>\n",
       "      <th>Cliente</th>\n",
       "    </tr>\n",
       "  </thead>\n",
       "  <tbody>\n",
       "    <tr>\n",
       "      <th>0</th>\n",
       "      <td>2</td>\n",
       "      <td>V5555555555555_16</td>\n",
       "    </tr>\n",
       "    <tr>\n",
       "      <th>1</th>\n",
       "      <td>2</td>\n",
       "      <td>V555555555555555_29</td>\n",
       "    </tr>\n",
       "    <tr>\n",
       "      <th>2</th>\n",
       "      <td>2</td>\n",
       "      <td>V555555555_3</td>\n",
       "    </tr>\n",
       "    <tr>\n",
       "      <th>3</th>\n",
       "      <td>2</td>\n",
       "      <td>V55555555555555_8</td>\n",
       "    </tr>\n",
       "    <tr>\n",
       "      <th>4</th>\n",
       "      <td>2</td>\n",
       "      <td>V55555555_9</td>\n",
       "    </tr>\n",
       "  </tbody>\n",
       "</table>\n",
       "</div>"
      ],
      "text/plain": [
       "   Planta              Cliente\n",
       "0       2    V5555555555555_16\n",
       "1       2  V555555555555555_29\n",
       "2       2         V555555555_3\n",
       "3       2    V55555555555555_8\n",
       "4       2          V55555555_9"
      ]
     },
     "execution_count": 7,
     "metadata": {},
     "output_type": "execute_result"
    }
   ],
   "source": [
    "clientes_por_planta_ = pd.concat([clientes_por_planta, df]).reset_index(drop = True)\n",
    "\n",
    "clientes_por_planta.head()"
   ]
  },
  {
   "cell_type": "code",
   "execution_count": 8,
   "id": "a2b5ce85-8a5f-45de-ad3e-8a8732e67709",
   "metadata": {},
   "outputs": [
    {
     "data": {
      "text/html": [
       "<div>\n",
       "<style scoped>\n",
       "    .dataframe tbody tr th:only-of-type {\n",
       "        vertical-align: middle;\n",
       "    }\n",
       "\n",
       "    .dataframe tbody tr th {\n",
       "        vertical-align: top;\n",
       "    }\n",
       "\n",
       "    .dataframe thead th {\n",
       "        text-align: right;\n",
       "    }\n",
       "</style>\n",
       "<table border=\"1\" class=\"dataframe\">\n",
       "  <thead>\n",
       "    <tr style=\"text-align: right;\">\n",
       "      <th></th>\n",
       "      <th>Recuento de Clientes</th>\n",
       "    </tr>\n",
       "    <tr>\n",
       "      <th>Planta</th>\n",
       "      <th></th>\n",
       "    </tr>\n",
       "  </thead>\n",
       "  <tbody>\n",
       "    <tr>\n",
       "      <th>1</th>\n",
       "      <td>10</td>\n",
       "    </tr>\n",
       "    <tr>\n",
       "      <th>2</th>\n",
       "      <td>7</td>\n",
       "    </tr>\n",
       "    <tr>\n",
       "      <th>3</th>\n",
       "      <td>10</td>\n",
       "    </tr>\n",
       "    <tr>\n",
       "      <th>4</th>\n",
       "      <td>10</td>\n",
       "    </tr>\n",
       "    <tr>\n",
       "      <th>5</th>\n",
       "      <td>10</td>\n",
       "    </tr>\n",
       "    <tr>\n",
       "      <th>6</th>\n",
       "      <td>2</td>\n",
       "    </tr>\n",
       "    <tr>\n",
       "      <th>7</th>\n",
       "      <td>10</td>\n",
       "    </tr>\n",
       "    <tr>\n",
       "      <th>8</th>\n",
       "      <td>10</td>\n",
       "    </tr>\n",
       "    <tr>\n",
       "      <th>9</th>\n",
       "      <td>10</td>\n",
       "    </tr>\n",
       "    <tr>\n",
       "      <th>10</th>\n",
       "      <td>4</td>\n",
       "    </tr>\n",
       "    <tr>\n",
       "      <th>11</th>\n",
       "      <td>1</td>\n",
       "    </tr>\n",
       "    <tr>\n",
       "      <th>12</th>\n",
       "      <td>10</td>\n",
       "    </tr>\n",
       "    <tr>\n",
       "      <th>13</th>\n",
       "      <td>10</td>\n",
       "    </tr>\n",
       "    <tr>\n",
       "      <th>14</th>\n",
       "      <td>10</td>\n",
       "    </tr>\n",
       "    <tr>\n",
       "      <th>15</th>\n",
       "      <td>10</td>\n",
       "    </tr>\n",
       "  </tbody>\n",
       "</table>\n",
       "</div>"
      ],
      "text/plain": [
       "        Recuento de Clientes\n",
       "Planta                      \n",
       "1                         10\n",
       "2                          7\n",
       "3                         10\n",
       "4                         10\n",
       "5                         10\n",
       "6                          2\n",
       "7                         10\n",
       "8                         10\n",
       "9                         10\n",
       "10                         4\n",
       "11                         1\n",
       "12                        10\n",
       "13                        10\n",
       "14                        10\n",
       "15                        10"
      ]
     },
     "execution_count": 8,
     "metadata": {},
     "output_type": "execute_result"
    }
   ],
   "source": [
    "clientes_agrup_por_planta = clientes_por_planta_.groupby(by = \"Planta\").agg({\"Planta\": \"size\"}).rename(columns = {\"Planta\": \"Recuento de Clientes\"})\n",
    "\n",
    "clientes_agrup_por_planta"
   ]
  },
  {
   "cell_type": "markdown",
   "id": "8ed18b40-65a5-43fa-b1d1-4bddc11236b4",
   "metadata": {},
   "source": [
    "*Estadística descriptiva de Clientes por cada Planta*"
   ]
  },
  {
   "cell_type": "code",
   "execution_count": 9,
   "id": "69152d69-d713-4718-8f65-a4d2dfc7821d",
   "metadata": {},
   "outputs": [
    {
     "data": {
      "image/png": "[encoded data removed]",
      "text/plain": [
       "<Figure size 648x504 with 1 Axes>"
      ]
     },
     "metadata": {},
     "output_type": "display_data"
    }
   ],
   "source": [
    "from functions import plot_bar\n",
    "\n",
    "plot_bar(\"Planta\", \"Recuento de Clientes\", clientes_agrup_por_planta.index, clientes_agrup_por_planta[\"Recuento de Clientes\"])"
   ]
  },
  {
   "cell_type": "code",
   "execution_count": null,
   "id": "81c52bd7-30f0-43cd-bf07-b513671a7a8c",
   "metadata": {},
   "outputs": [],
   "source": []
  }
 ],
 "metadata": {
  "kernelspec": {
   "display_name": "base",
   "language": "python",
   "name": "python3"
  },
  "language_info": {
   "codemirror_mode": {
    "name": "ipython",
    "version": 3
   },
   "file_extension": ".py",
   "mimetype": "text/x-python",
   "name": "python",
   "nbconvert_exporter": "python",
   "pygments_lexer": "ipython3",
   "version": "3.8.8"
  }
 },
 "nbformat": 4,
 "nbformat_minor": 5
}
