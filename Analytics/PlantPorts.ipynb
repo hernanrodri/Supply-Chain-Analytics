{
 "cells": [
  {
   "cell_type": "code",
   "execution_count": 9,
   "id": "ad805c15-0a2f-4dca-8c07-634009bdd8a4",
   "metadata": {},
   "outputs": [],
   "source": [
    "import numpy as np\n",
    "import pandas as pd"
   ]
  },
  {
   "cell_type": "markdown",
   "id": "4db2ac39-2970-44bc-8ce1-e992be418989",
   "metadata": {},
   "source": [
    "## Tabla Puertos por cada Planta"
   ]
  },
  {
   "cell_type": "markdown",
   "id": "eadbfdb1-ed05-4be7-9d0a-99bc8d70d512",
   "metadata": {},
   "source": [
    "Esta tabla describe las rutas permitidas entre los almacenes y los puertos de envío."
   ]
  },
  {
   "cell_type": "code",
   "execution_count": 52,
   "id": "b1c9aa88-e64c-44bf-ab4b-e0b5ae95b9c9",
   "metadata": {},
   "outputs": [],
   "source": [
    "plantports = pd.read_excel(\"data.xlsx\", sheet_name = \"PlantPorts\")\n",
    "plantports= plantports.iloc[:, :2]\n",
    "\n",
    "plantports.columns = [\"Planta\", \"Puerto de origen\"]\n",
    "plantports = plantports.replace({\"[^\\d.]\": \"\"}, regex = True).astype(int)\n",
    "plantports = plantports[plantports[\"Planta\"] <= 15]"
   ]
  },
  {
   "cell_type": "code",
   "execution_count": 53,
   "id": "284c4932-dbad-479c-8946-5feb87647041",
   "metadata": {},
   "outputs": [
    {
     "data": {
      "text/html": [
       "<div>\n",
       "<style scoped>\n",
       "    .dataframe tbody tr th:only-of-type {\n",
       "        vertical-align: middle;\n",
       "    }\n",
       "\n",
       "    .dataframe tbody tr th {\n",
       "        vertical-align: top;\n",
       "    }\n",
       "\n",
       "    .dataframe thead th {\n",
       "        text-align: right;\n",
       "    }\n",
       "</style>\n",
       "<table border=\"1\" class=\"dataframe\">\n",
       "  <thead>\n",
       "    <tr style=\"text-align: right;\">\n",
       "      <th></th>\n",
       "      <th>Recuento de Puertos de origen</th>\n",
       "    </tr>\n",
       "    <tr>\n",
       "      <th>Planta</th>\n",
       "      <th></th>\n",
       "    </tr>\n",
       "  </thead>\n",
       "  <tbody>\n",
       "    <tr>\n",
       "      <th>1</th>\n",
       "      <td>2</td>\n",
       "    </tr>\n",
       "    <tr>\n",
       "      <th>2</th>\n",
       "      <td>1</td>\n",
       "    </tr>\n",
       "    <tr>\n",
       "      <th>3</th>\n",
       "      <td>1</td>\n",
       "    </tr>\n",
       "    <tr>\n",
       "      <th>4</th>\n",
       "      <td>1</td>\n",
       "    </tr>\n",
       "    <tr>\n",
       "      <th>5</th>\n",
       "      <td>1</td>\n",
       "    </tr>\n",
       "    <tr>\n",
       "      <th>6</th>\n",
       "      <td>1</td>\n",
       "    </tr>\n",
       "    <tr>\n",
       "      <th>7</th>\n",
       "      <td>2</td>\n",
       "    </tr>\n",
       "    <tr>\n",
       "      <th>8</th>\n",
       "      <td>1</td>\n",
       "    </tr>\n",
       "    <tr>\n",
       "      <th>9</th>\n",
       "      <td>1</td>\n",
       "    </tr>\n",
       "    <tr>\n",
       "      <th>10</th>\n",
       "      <td>2</td>\n",
       "    </tr>\n",
       "    <tr>\n",
       "      <th>11</th>\n",
       "      <td>1</td>\n",
       "    </tr>\n",
       "    <tr>\n",
       "      <th>12</th>\n",
       "      <td>1</td>\n",
       "    </tr>\n",
       "    <tr>\n",
       "      <th>13</th>\n",
       "      <td>1</td>\n",
       "    </tr>\n",
       "    <tr>\n",
       "      <th>14</th>\n",
       "      <td>1</td>\n",
       "    </tr>\n",
       "    <tr>\n",
       "      <th>15</th>\n",
       "      <td>1</td>\n",
       "    </tr>\n",
       "  </tbody>\n",
       "</table>\n",
       "</div>"
      ],
      "text/plain": [
       "        Recuento de Puertos de origen\n",
       "Planta                               \n",
       "1                                   2\n",
       "2                                   1\n",
       "3                                   1\n",
       "4                                   1\n",
       "5                                   1\n",
       "6                                   1\n",
       "7                                   2\n",
       "8                                   1\n",
       "9                                   1\n",
       "10                                  2\n",
       "11                                  1\n",
       "12                                  1\n",
       "13                                  1\n",
       "14                                  1\n",
       "15                                  1"
      ]
     },
     "execution_count": 53,
     "metadata": {},
     "output_type": "execute_result"
    }
   ],
   "source": [
    "g1 = plantports.groupby(by = \"Planta\").agg({\"Puerto de origen\": \"size\"}).rename(columns = {\"Puerto de origen\": \"Recuento de Puertos de origen\"})\n",
    "g1"
   ]
  },
  {
   "cell_type": "code",
   "execution_count": null,
   "id": "005639b9",
   "metadata": {},
   "outputs": [],
   "source": []
  }
 ],
 "metadata": {
  "kernelspec": {
   "display_name": "base",
   "language": "python",
   "name": "python3"
  },
  "language_info": {
   "codemirror_mode": {
    "name": "ipython",
    "version": 3
   },
   "file_extension": ".py",
   "mimetype": "text/x-python",
   "name": "python",
   "nbconvert_exporter": "python",
   "pygments_lexer": "ipython3",
   "version": "3.8.8"
  }
 },
 "nbformat": 4,
 "nbformat_minor": 5
}
