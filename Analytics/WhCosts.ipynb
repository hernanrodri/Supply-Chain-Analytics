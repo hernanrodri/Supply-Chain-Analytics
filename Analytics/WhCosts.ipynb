{
 "cells": [
  {
   "cell_type": "code",
   "execution_count": 1,
   "id": "de911e67-14a4-4477-b730-bbb104ad532c",
   "metadata": {},
   "outputs": [],
   "source": [
    "import numpy as np\n",
    "import pandas as pd\n",
    "import matplotlib.pyplot as plt"
   ]
  },
  {
   "cell_type": "markdown",
   "id": "aa4cccdc-8a61-420e-8fc4-c16d61556f4f",
   "metadata": {},
   "source": [
    "## Tabla Costos de Almacenaje"
   ]
  },
  {
   "cell_type": "markdown",
   "id": "7669b0e8-e18e-4425-a21d-ce3ce0c1226b",
   "metadata": {},
   "source": [
    "Esta tabla especifica el costo asociado al almacenamiento de los productos en un almacén determinado medido en dólares por unidad (item)."
   ]
  },
  {
   "cell_type": "code",
   "execution_count": 4,
   "id": "446fdcd5-1e22-44e1-bbba-10720c46c781",
   "metadata": {},
   "outputs": [],
   "source": [
    "costs = pd.read_excel(\"data.xlsx\", sheet_name = \"WhCosts\")\n",
    "\n",
    "costs.columns = [\"Planta\", \"Costo [USD/item]\"]\n",
    "costs[\"Planta\"] = costs[\"Planta\"].replace({\"[^\\d.]\": \"\"}, regex = True).astype(int)\n",
    "costs = costs[costs[\"Planta\"] <= 15]\n",
    "costs = costs.set_index(\"Planta\")\n"
   ]
  },
  {
   "cell_type": "code",
   "execution_count": 5,
   "id": "57911d07",
   "metadata": {},
   "outputs": [
    {
     "data": {
      "text/html": [
       "<div>\n",
       "<style scoped>\n",
       "    .dataframe tbody tr th:only-of-type {\n",
       "        vertical-align: middle;\n",
       "    }\n",
       "\n",
       "    .dataframe tbody tr th {\n",
       "        vertical-align: top;\n",
       "    }\n",
       "\n",
       "    .dataframe thead th {\n",
       "        text-align: right;\n",
       "    }\n",
       "</style>\n",
       "<table border=\"1\" class=\"dataframe\">\n",
       "  <thead>\n",
       "    <tr style=\"text-align: right;\">\n",
       "      <th></th>\n",
       "      <th>Costo [USD/item]</th>\n",
       "    </tr>\n",
       "    <tr>\n",
       "      <th>Planta</th>\n",
       "      <th></th>\n",
       "    </tr>\n",
       "  </thead>\n",
       "  <tbody>\n",
       "    <tr>\n",
       "      <th>15</th>\n",
       "      <td>1.42</td>\n",
       "    </tr>\n",
       "    <tr>\n",
       "      <th>5</th>\n",
       "      <td>0.49</td>\n",
       "    </tr>\n",
       "    <tr>\n",
       "      <th>2</th>\n",
       "      <td>0.48</td>\n",
       "    </tr>\n",
       "    <tr>\n",
       "      <th>1</th>\n",
       "      <td>0.57</td>\n",
       "    </tr>\n",
       "    <tr>\n",
       "      <th>6</th>\n",
       "      <td>0.55</td>\n",
       "    </tr>\n",
       "    <tr>\n",
       "      <th>10</th>\n",
       "      <td>0.49</td>\n",
       "    </tr>\n",
       "    <tr>\n",
       "      <th>7</th>\n",
       "      <td>0.37</td>\n",
       "    </tr>\n",
       "    <tr>\n",
       "      <th>14</th>\n",
       "      <td>0.63</td>\n",
       "    </tr>\n",
       "    <tr>\n",
       "      <th>12</th>\n",
       "      <td>0.77</td>\n",
       "    </tr>\n",
       "    <tr>\n",
       "      <th>11</th>\n",
       "      <td>0.56</td>\n",
       "    </tr>\n",
       "    <tr>\n",
       "      <th>9</th>\n",
       "      <td>0.47</td>\n",
       "    </tr>\n",
       "    <tr>\n",
       "      <th>3</th>\n",
       "      <td>0.52</td>\n",
       "    </tr>\n",
       "    <tr>\n",
       "      <th>13</th>\n",
       "      <td>0.47</td>\n",
       "    </tr>\n",
       "    <tr>\n",
       "      <th>8</th>\n",
       "      <td>0.52</td>\n",
       "    </tr>\n",
       "    <tr>\n",
       "      <th>4</th>\n",
       "      <td>0.43</td>\n",
       "    </tr>\n",
       "  </tbody>\n",
       "</table>\n",
       "</div>"
      ],
      "text/plain": [
       "        Costo [USD/item]\n",
       "Planta                  \n",
       "15                  1.42\n",
       "5                   0.49\n",
       "2                   0.48\n",
       "1                   0.57\n",
       "6                   0.55\n",
       "10                  0.49\n",
       "7                   0.37\n",
       "14                  0.63\n",
       "12                  0.77\n",
       "11                  0.56\n",
       "9                   0.47\n",
       "3                   0.52\n",
       "13                  0.47\n",
       "8                   0.52\n",
       "4                   0.43"
      ]
     },
     "execution_count": 5,
     "metadata": {},
     "output_type": "execute_result"
    }
   ],
   "source": [
    "costs.round(2)"
   ]
  },
  {
   "cell_type": "code",
   "execution_count": 7,
   "id": "8e4aed57-2c07-4cda-af30-c00f7a8f7c01",
   "metadata": {},
   "outputs": [
    {
     "data": {
      "image/png": "[encoded data removed]",
      "text/plain": [
       "<Figure size 648x504 with 1 Axes>"
      ]
     },
     "metadata": {},
     "output_type": "display_data"
    }
   ],
   "source": [
    "if __name__ == \"__main__\":\n",
    "    plt.style.use(\"seaborn-darkgrid\")\n",
    "    plt.figure(figsize = (9, 7))\n",
    "    plt.bar(costs.index, costs[\"Costo [USD/item]\"])\n",
    "    plt.xlabel(\"Planta\")\n",
    "    plt.ylabel(\"Costo [USD/item]\")"
   ]
  },
  {
   "cell_type": "code",
   "execution_count": null,
   "id": "cb7f571a-8bb2-4024-be3e-58074431331a",
   "metadata": {},
   "outputs": [],
   "source": []
  }
 ],
 "metadata": {
  "kernelspec": {
   "display_name": "base",
   "language": "python",
   "name": "python3"
  },
  "language_info": {
   "codemirror_mode": {
    "name": "ipython",
    "version": 3
   },
   "file_extension": ".py",
   "mimetype": "text/x-python",
   "name": "python",
   "nbconvert_exporter": "python",
   "pygments_lexer": "ipython3",
   "version": "3.8.8"
  }
 },
 "nbformat": 4,
 "nbformat_minor": 5
}
