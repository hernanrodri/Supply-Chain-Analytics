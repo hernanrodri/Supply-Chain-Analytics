{
 "cells": [
  {
   "cell_type": "code",
   "execution_count": 1,
   "id": "df0737cd-b732-435f-a0a7-9bfd587976c2",
   "metadata": {},
   "outputs": [],
   "source": [
    "import numpy as np\n",
    "import pandas as pd"
   ]
  },
  {
   "cell_type": "markdown",
   "id": "e43d81f7-cc05-425b-a11a-9ef70fca20b3",
   "metadata": {},
   "source": [
    "## Tabla Clientes por cada Planta"
   ]
  },
  {
   "cell_type": "markdown",
   "id": "f58fcc8a-7c76-4085-b92b-e5b7c467c8e0",
   "metadata": {},
   "source": [
    "Esta tabla enumera todos los casos especiales, en los que el almacén solo puede brindar soporte a un cliente específico, mientras que cualquier otro almacén no registrado en la tabla puede abastecer a cualquier cliente."
   ]
  },
  {
   "cell_type": "code",
   "execution_count": 2,
   "id": "4753b7c3-2b54-42aa-b73c-db3adf5b064c",
   "metadata": {},
   "outputs": [],
   "source": [
    "customers = pd.read_excel(\"data.xlsx\", sheet_name = \"VmiCustomers\")\n",
    "customers.columns = [\"Planta\", \"Cliente\"]\n",
    "\n",
    "customers[\"Planta\"] = customers[\"Planta\"].replace({\"[^\\d.]\": \"\"}, regex = True).astype(int)\n",
    "customers = customers.set_index(\"Planta\")"
   ]
  },
  {
   "cell_type": "code",
   "execution_count": 3,
   "id": "8d890742",
   "metadata": {},
   "outputs": [
    {
     "data": {
      "text/html": [
       "<div>\n",
       "<style scoped>\n",
       "    .dataframe tbody tr th:only-of-type {\n",
       "        vertical-align: middle;\n",
       "    }\n",
       "\n",
       "    .dataframe tbody tr th {\n",
       "        vertical-align: top;\n",
       "    }\n",
       "\n",
       "    .dataframe thead th {\n",
       "        text-align: right;\n",
       "    }\n",
       "</style>\n",
       "<table border=\"1\" class=\"dataframe\">\n",
       "  <thead>\n",
       "    <tr style=\"text-align: right;\">\n",
       "      <th></th>\n",
       "      <th>Cliente</th>\n",
       "    </tr>\n",
       "    <tr>\n",
       "      <th>Planta</th>\n",
       "      <th></th>\n",
       "    </tr>\n",
       "  </thead>\n",
       "  <tbody>\n",
       "    <tr>\n",
       "      <th>2</th>\n",
       "      <td>V5555555555555_16</td>\n",
       "    </tr>\n",
       "    <tr>\n",
       "      <th>2</th>\n",
       "      <td>V555555555555555_29</td>\n",
       "    </tr>\n",
       "    <tr>\n",
       "      <th>2</th>\n",
       "      <td>V555555555_3</td>\n",
       "    </tr>\n",
       "    <tr>\n",
       "      <th>2</th>\n",
       "      <td>V55555555555555_8</td>\n",
       "    </tr>\n",
       "    <tr>\n",
       "      <th>2</th>\n",
       "      <td>V55555555_9</td>\n",
       "    </tr>\n",
       "    <tr>\n",
       "      <th>2</th>\n",
       "      <td>V55555_10</td>\n",
       "    </tr>\n",
       "    <tr>\n",
       "      <th>2</th>\n",
       "      <td>V55555555_5</td>\n",
       "    </tr>\n",
       "    <tr>\n",
       "      <th>6</th>\n",
       "      <td>V555555555555555_18</td>\n",
       "    </tr>\n",
       "    <tr>\n",
       "      <th>6</th>\n",
       "      <td>V55555_10</td>\n",
       "    </tr>\n",
       "    <tr>\n",
       "      <th>10</th>\n",
       "      <td>V555555555555555_29</td>\n",
       "    </tr>\n",
       "    <tr>\n",
       "      <th>10</th>\n",
       "      <td>V555555_34</td>\n",
       "    </tr>\n",
       "    <tr>\n",
       "      <th>10</th>\n",
       "      <td>V5555555555555555555_54</td>\n",
       "    </tr>\n",
       "    <tr>\n",
       "      <th>10</th>\n",
       "      <td>V55555_10</td>\n",
       "    </tr>\n",
       "    <tr>\n",
       "      <th>11</th>\n",
       "      <td>V5555555555555555555_54</td>\n",
       "    </tr>\n",
       "  </tbody>\n",
       "</table>\n",
       "</div>"
      ],
      "text/plain": [
       "                        Cliente\n",
       "Planta                         \n",
       "2             V5555555555555_16\n",
       "2           V555555555555555_29\n",
       "2                  V555555555_3\n",
       "2             V55555555555555_8\n",
       "2                   V55555555_9\n",
       "2                     V55555_10\n",
       "2                   V55555555_5\n",
       "6           V555555555555555_18\n",
       "6                     V55555_10\n",
       "10          V555555555555555_29\n",
       "10                   V555555_34\n",
       "10      V5555555555555555555_54\n",
       "10                    V55555_10\n",
       "11      V5555555555555555555_54"
      ]
     },
     "execution_count": 3,
     "metadata": {},
     "output_type": "execute_result"
    }
   ],
   "source": [
    "customers"
   ]
  },
  {
   "cell_type": "code",
   "execution_count": null,
   "id": "81c52bd7-30f0-43cd-bf07-b513671a7a8c",
   "metadata": {},
   "outputs": [],
   "source": []
  }
 ],
 "metadata": {
  "kernelspec": {
   "display_name": "base",
   "language": "python",
   "name": "python3"
  },
  "language_info": {
   "codemirror_mode": {
    "name": "ipython",
    "version": 3
   },
   "file_extension": ".py",
   "mimetype": "text/x-python",
   "name": "python",
   "nbconvert_exporter": "python",
   "pygments_lexer": "ipython3",
   "version": "3.8.8"
  }
 },
 "nbformat": 4,
 "nbformat_minor": 5
}
