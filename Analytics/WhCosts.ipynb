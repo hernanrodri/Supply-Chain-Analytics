{
 "cells": [
  {
   "cell_type": "code",
   "execution_count": 1,
   "id": "de911e67-14a4-4477-b730-bbb104ad532c",
   "metadata": {},
   "outputs": [],
   "source": [
    "import numpy as np\n",
    "import pandas as pd\n",
    "import sys\n",
    "import os"
   ]
  },
  {
   "cell_type": "markdown",
   "id": "aa4cccdc-8a61-420e-8fc4-c16d61556f4f",
   "metadata": {},
   "source": [
    "## Tabla Costos de Almacenaje"
   ]
  },
  {
   "cell_type": "markdown",
   "id": "7669b0e8-e18e-4425-a21d-ce3ce0c1226b",
   "metadata": {},
   "source": [
    "Esta tabla especifica el costo asociado al almacenamiento de los productos en un almacén determinado medido en dólares por unidad (item)."
   ]
  },
  {
   "cell_type": "code",
   "execution_count": 2,
   "id": "446fdcd5-1e22-44e1-bbba-10720c46c781",
   "metadata": {},
   "outputs": [],
   "source": [
    "costos_almacenaje = pd.read_excel(\"data.xlsx\", sheet_name = \"WhCosts\")\n",
    "costos_almacenaje.columns = [\"Planta\", \"Costo [USD/item]\"]"
   ]
  },
  {
   "cell_type": "code",
   "execution_count": 3,
   "id": "5ad4aed0-4025-4fbe-b83e-b2f290843a61",
   "metadata": {},
   "outputs": [
    {
     "name": "stdout",
     "output_type": "stream",
     "text": [
      "<class 'pandas.core.frame.DataFrame'>\n",
      "RangeIndex: 19 entries, 0 to 18\n",
      "Data columns (total 2 columns):\n",
      " #   Column            Non-Null Count  Dtype  \n",
      "---  ------            --------------  -----  \n",
      " 0   Planta            19 non-null     object \n",
      " 1   Costo [USD/item]  19 non-null     float64\n",
      "dtypes: float64(1), object(1)\n",
      "memory usage: 432.0+ bytes\n"
     ]
    }
   ],
   "source": [
    "costos_almacenaje.info()"
   ]
  },
  {
   "cell_type": "markdown",
   "id": "06d44037-40bb-4acd-91de-a4fdfce1d037",
   "metadata": {},
   "source": [
    "*¿La tabla contiene filas duplicadas?*"
   ]
  },
  {
   "cell_type": "code",
   "execution_count": 4,
   "id": "2bc20fb9-b0bc-44e9-8315-d70d54b1ee97",
   "metadata": {},
   "outputs": [
    {
     "data": {
      "text/plain": [
       "False"
      ]
     },
     "execution_count": 4,
     "metadata": {},
     "output_type": "execute_result"
    }
   ],
   "source": [
    "costos_almacenaje.duplicated().any()"
   ]
  },
  {
   "cell_type": "code",
   "execution_count": 5,
   "id": "b8e67bb8-9816-4edd-9f7d-3fca82ce9795",
   "metadata": {},
   "outputs": [
    {
     "data": {
      "text/html": [
       "<div>\n",
       "<style scoped>\n",
       "    .dataframe tbody tr th:only-of-type {\n",
       "        vertical-align: middle;\n",
       "    }\n",
       "\n",
       "    .dataframe tbody tr th {\n",
       "        vertical-align: top;\n",
       "    }\n",
       "\n",
       "    .dataframe thead th {\n",
       "        text-align: right;\n",
       "    }\n",
       "</style>\n",
       "<table border=\"1\" class=\"dataframe\">\n",
       "  <thead>\n",
       "    <tr style=\"text-align: right;\">\n",
       "      <th></th>\n",
       "      <th>Planta</th>\n",
       "      <th>Costo [USD/item]</th>\n",
       "    </tr>\n",
       "  </thead>\n",
       "  <tbody>\n",
       "    <tr>\n",
       "      <th>0</th>\n",
       "      <td>15</td>\n",
       "      <td>1.42</td>\n",
       "    </tr>\n",
       "    <tr>\n",
       "      <th>3</th>\n",
       "      <td>5</td>\n",
       "      <td>0.49</td>\n",
       "    </tr>\n",
       "    <tr>\n",
       "      <th>4</th>\n",
       "      <td>2</td>\n",
       "      <td>0.48</td>\n",
       "    </tr>\n",
       "    <tr>\n",
       "      <th>5</th>\n",
       "      <td>1</td>\n",
       "      <td>0.57</td>\n",
       "    </tr>\n",
       "    <tr>\n",
       "      <th>6</th>\n",
       "      <td>6</td>\n",
       "      <td>0.55</td>\n",
       "    </tr>\n",
       "    <tr>\n",
       "      <th>7</th>\n",
       "      <td>10</td>\n",
       "      <td>0.49</td>\n",
       "    </tr>\n",
       "    <tr>\n",
       "      <th>8</th>\n",
       "      <td>7</td>\n",
       "      <td>0.37</td>\n",
       "    </tr>\n",
       "    <tr>\n",
       "      <th>9</th>\n",
       "      <td>14</td>\n",
       "      <td>0.63</td>\n",
       "    </tr>\n",
       "    <tr>\n",
       "      <th>11</th>\n",
       "      <td>12</td>\n",
       "      <td>0.77</td>\n",
       "    </tr>\n",
       "    <tr>\n",
       "      <th>12</th>\n",
       "      <td>11</td>\n",
       "      <td>0.56</td>\n",
       "    </tr>\n",
       "    <tr>\n",
       "      <th>13</th>\n",
       "      <td>9</td>\n",
       "      <td>0.47</td>\n",
       "    </tr>\n",
       "    <tr>\n",
       "      <th>14</th>\n",
       "      <td>3</td>\n",
       "      <td>0.52</td>\n",
       "    </tr>\n",
       "    <tr>\n",
       "      <th>15</th>\n",
       "      <td>13</td>\n",
       "      <td>0.47</td>\n",
       "    </tr>\n",
       "    <tr>\n",
       "      <th>17</th>\n",
       "      <td>8</td>\n",
       "      <td>0.52</td>\n",
       "    </tr>\n",
       "    <tr>\n",
       "      <th>18</th>\n",
       "      <td>4</td>\n",
       "      <td>0.43</td>\n",
       "    </tr>\n",
       "  </tbody>\n",
       "</table>\n",
       "</div>"
      ],
      "text/plain": [
       "    Planta  Costo [USD/item]\n",
       "0       15              1.42\n",
       "3        5              0.49\n",
       "4        2              0.48\n",
       "5        1              0.57\n",
       "6        6              0.55\n",
       "7       10              0.49\n",
       "8        7              0.37\n",
       "9       14              0.63\n",
       "11      12              0.77\n",
       "12      11              0.56\n",
       "13       9              0.47\n",
       "14       3              0.52\n",
       "15      13              0.47\n",
       "17       8              0.52\n",
       "18       4              0.43"
      ]
     },
     "execution_count": 5,
     "metadata": {},
     "output_type": "execute_result"
    }
   ],
   "source": [
    "values = np.arange(1, 16, 1)\n",
    "\n",
    "costos_almacenaje[\"Planta\"] = costos_almacenaje[\"Planta\"].replace({\"[^\\d.]\": \"\"}, regex = True).astype(int)\n",
    "costos_almacenaje = costos_almacenaje.loc[costos_almacenaje[\"Planta\"].isin(values), :]\n",
    "\n",
    "costos_almacenaje.round(2)"
   ]
  },
  {
   "cell_type": "markdown",
   "id": "802cc477-ca19-4cb0-83cd-a042fe4b81e8",
   "metadata": {},
   "source": [
    "*Estadística descriptiva de Costo específico [USD/item]*"
   ]
  },
  {
   "cell_type": "code",
   "execution_count": 8,
   "id": "8e4aed57-2c07-4cda-af30-c00f7a8f7c01",
   "metadata": {},
   "outputs": [
    {
     "data": {
      "image/png": "[encoded data removed]",
      "text/plain": [
       "<Figure size 648x504 with 1 Axes>"
      ]
     },
     "metadata": {},
     "output_type": "display_data"
    }
   ],
   "source": [
    "sys.path.append(os.path.abspath(\"..\"))\n",
    "\n",
    "from functions import plot_bar\n",
    "\n",
    "plot_bar(\"Planta\", \"Costo  [USD/item]\", costos_almacenaje[\"Planta\"], costos_almacenaje[\"Costo [USD/item]\"])"
   ]
  },
  {
   "cell_type": "code",
   "execution_count": null,
   "id": "cb7f571a-8bb2-4024-be3e-58074431331a",
   "metadata": {},
   "outputs": [],
   "source": []
  }
 ],
 "metadata": {
  "kernelspec": {
   "display_name": "base",
   "language": "python",
   "name": "python3"
  },
  "language_info": {
   "codemirror_mode": {
    "name": "ipython",
    "version": 3
   },
   "file_extension": ".py",
   "mimetype": "text/x-python",
   "name": "python",
   "nbconvert_exporter": "python",
   "pygments_lexer": "ipython3",
   "version": "3.8.8"
  }
 },
 "nbformat": 4,
 "nbformat_minor": 5
}
