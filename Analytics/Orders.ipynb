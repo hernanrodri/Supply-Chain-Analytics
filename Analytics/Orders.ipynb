{
 "cells": [
  {
   "cell_type": "code",
   "execution_count": 1,
   "id": "bbc8ac01-e7cf-474a-b214-598c482bf58b",
   "metadata": {},
   "outputs": [],
   "source": [
    "import numpy as np\n",
    "import pandas as pd\n",
    "from functions import plot_scatter, plot_bar"
   ]
  },
  {
   "cell_type": "markdown",
   "id": "8abfd7ed-9757-4b51-ad25-0a9d0c503b63",
   "metadata": {},
   "source": [
    "# 1ra Etapa: Análisis exploratorio de los datos"
   ]
  },
  {
   "cell_type": "markdown",
   "id": "3189f660-ddd5-4211-ba53-cb41c2c9a798",
   "metadata": {},
   "source": [
    "## Tabla Pedidos"
   ]
  },
  {
   "cell_type": "markdown",
   "id": "1280fa3e-841a-4379-b1c8-9d48ab71fdc0",
   "metadata": {},
   "source": [
    "Esta tabla contiene los registros históricos de los pedidos realizados por los clientes en una fecha determinada. Aunque los datos no pertenecen a la cadena de suministro actual, nos sirve como base para armar las restricciones de optimización de la misma."
   ]
  },
  {
   "cell_type": "code",
   "execution_count": 2,
   "id": "698f8039-991f-4dff-a5aa-8400ab879db9",
   "metadata": {},
   "outputs": [],
   "source": [
    "pedidos = pd.read_excel(\"data.xlsx\", sheet_name = \"OrderList\")\n",
    "\n",
    "pedidos.columns = [\"Pedido\", \"Fecha\", \"Puerto de origen\", \"Transportista\", \"TPT\", \"Nivel de servicio\", \"Envío adelantado [días]\", \n",
    "                   \"Envío tardío [días]\", \"Cliente\", \"Producto\", \"Planta\", \"Puerto de destino\", \"Items\", \"Peso [kg/item]\"]"
   ]
  },
  {
   "cell_type": "code",
   "execution_count": 3,
   "id": "f4ab7e68-4de3-40a5-96c5-a9bf00c903ec",
   "metadata": {},
   "outputs": [
    {
     "name": "stdout",
     "output_type": "stream",
     "text": [
      "<class 'pandas.core.frame.DataFrame'>\n",
      "RangeIndex: 9215 entries, 0 to 9214\n",
      "Data columns (total 14 columns):\n",
      " #   Column                   Non-Null Count  Dtype         \n",
      "---  ------                   --------------  -----         \n",
      " 0   Pedido                   9215 non-null   float64       \n",
      " 1   Fecha                    9215 non-null   datetime64[ns]\n",
      " 2   Puerto de origen         9215 non-null   object        \n",
      " 3   Transportista            9215 non-null   object        \n",
      " 4   TPT                      9215 non-null   int64         \n",
      " 5   Nivel de servicio        9215 non-null   object        \n",
      " 6   Envío adelantado [días]  9215 non-null   int64         \n",
      " 7   Envío tardío [días]      9215 non-null   int64         \n",
      " 8   Cliente                  9215 non-null   object        \n",
      " 9   Producto                 9215 non-null   int64         \n",
      " 10  Planta                   9215 non-null   object        \n",
      " 11  Puerto de destino        9215 non-null   object        \n",
      " 12  Items                    9215 non-null   int64         \n",
      " 13  Peso [kg/item]           9215 non-null   float64       \n",
      "dtypes: datetime64[ns](1), float64(2), int64(5), object(6)\n",
      "memory usage: 1008.0+ KB\n"
     ]
    }
   ],
   "source": [
    "pedidos.info()"
   ]
  },
  {
   "cell_type": "markdown",
   "id": "a03939b8-2804-49c6-bc73-d98d042d1c4a",
   "metadata": {},
   "source": [
    "*¿La tabla contiene filas duplicadas?*"
   ]
  },
  {
   "cell_type": "code",
   "execution_count": 4,
   "id": "3a4eceec-5fb1-4283-9530-ea5e8005cb73",
   "metadata": {},
   "outputs": [
    {
     "data": {
      "text/plain": [
       "False"
      ]
     },
     "execution_count": 4,
     "metadata": {},
     "output_type": "execute_result"
    }
   ],
   "source": [
    "pedidos.duplicated().any()"
   ]
  },
  {
   "cell_type": "code",
   "execution_count": 5,
   "id": "5687394b-a802-49f4-ba41-71152eeede41",
   "metadata": {},
   "outputs": [
    {
     "data": {
      "text/html": [
       "<div>\n",
       "<style scoped>\n",
       "    .dataframe tbody tr th:only-of-type {\n",
       "        vertical-align: middle;\n",
       "    }\n",
       "\n",
       "    .dataframe tbody tr th {\n",
       "        vertical-align: top;\n",
       "    }\n",
       "\n",
       "    .dataframe thead th {\n",
       "        text-align: right;\n",
       "    }\n",
       "</style>\n",
       "<table border=\"1\" class=\"dataframe\">\n",
       "  <thead>\n",
       "    <tr style=\"text-align: right;\">\n",
       "      <th></th>\n",
       "      <th>Pedido</th>\n",
       "      <th>Fecha</th>\n",
       "      <th>Puerto de origen</th>\n",
       "      <th>Transportista</th>\n",
       "      <th>TPT</th>\n",
       "      <th>Nivel de servicio</th>\n",
       "      <th>Envío adelantado [días]</th>\n",
       "      <th>Envío tardío [días]</th>\n",
       "      <th>Cliente</th>\n",
       "      <th>Producto</th>\n",
       "      <th>Planta</th>\n",
       "      <th>Puerto de destino</th>\n",
       "      <th>Items</th>\n",
       "      <th>Peso [kg/item]</th>\n",
       "    </tr>\n",
       "  </thead>\n",
       "  <tbody>\n",
       "    <tr>\n",
       "      <th>0</th>\n",
       "      <td>1447296446</td>\n",
       "      <td>2013-05-26</td>\n",
       "      <td>9</td>\n",
       "      <td>V44_3</td>\n",
       "      <td>1</td>\n",
       "      <td>CRF</td>\n",
       "      <td>3</td>\n",
       "      <td>0</td>\n",
       "      <td>V55555_53</td>\n",
       "      <td>1700106</td>\n",
       "      <td>16</td>\n",
       "      <td>9</td>\n",
       "      <td>808</td>\n",
       "      <td>14.30</td>\n",
       "    </tr>\n",
       "    <tr>\n",
       "      <th>1</th>\n",
       "      <td>1447158014</td>\n",
       "      <td>2013-05-26</td>\n",
       "      <td>9</td>\n",
       "      <td>V44_3</td>\n",
       "      <td>1</td>\n",
       "      <td>CRF</td>\n",
       "      <td>3</td>\n",
       "      <td>0</td>\n",
       "      <td>V55555_53</td>\n",
       "      <td>1700106</td>\n",
       "      <td>16</td>\n",
       "      <td>9</td>\n",
       "      <td>3188</td>\n",
       "      <td>87.94</td>\n",
       "    </tr>\n",
       "    <tr>\n",
       "      <th>2</th>\n",
       "      <td>1447138898</td>\n",
       "      <td>2013-05-26</td>\n",
       "      <td>9</td>\n",
       "      <td>V44_3</td>\n",
       "      <td>1</td>\n",
       "      <td>CRF</td>\n",
       "      <td>3</td>\n",
       "      <td>0</td>\n",
       "      <td>V55555_53</td>\n",
       "      <td>1700106</td>\n",
       "      <td>16</td>\n",
       "      <td>9</td>\n",
       "      <td>2331</td>\n",
       "      <td>61.20</td>\n",
       "    </tr>\n",
       "    <tr>\n",
       "      <th>3</th>\n",
       "      <td>1447363527</td>\n",
       "      <td>2013-05-26</td>\n",
       "      <td>9</td>\n",
       "      <td>V44_3</td>\n",
       "      <td>1</td>\n",
       "      <td>CRF</td>\n",
       "      <td>3</td>\n",
       "      <td>0</td>\n",
       "      <td>V55555_53</td>\n",
       "      <td>1700106</td>\n",
       "      <td>16</td>\n",
       "      <td>9</td>\n",
       "      <td>847</td>\n",
       "      <td>16.16</td>\n",
       "    </tr>\n",
       "    <tr>\n",
       "      <th>4</th>\n",
       "      <td>1447363980</td>\n",
       "      <td>2013-05-26</td>\n",
       "      <td>9</td>\n",
       "      <td>V44_3</td>\n",
       "      <td>1</td>\n",
       "      <td>CRF</td>\n",
       "      <td>3</td>\n",
       "      <td>0</td>\n",
       "      <td>V55555_53</td>\n",
       "      <td>1700106</td>\n",
       "      <td>16</td>\n",
       "      <td>9</td>\n",
       "      <td>2163</td>\n",
       "      <td>52.34</td>\n",
       "    </tr>\n",
       "  </tbody>\n",
       "</table>\n",
       "</div>"
      ],
      "text/plain": [
       "       Pedido      Fecha  Puerto de origen Transportista  TPT  \\\n",
       "0  1447296446 2013-05-26                 9         V44_3    1   \n",
       "1  1447158014 2013-05-26                 9         V44_3    1   \n",
       "2  1447138898 2013-05-26                 9         V44_3    1   \n",
       "3  1447363527 2013-05-26                 9         V44_3    1   \n",
       "4  1447363980 2013-05-26                 9         V44_3    1   \n",
       "\n",
       "  Nivel de servicio  Envío adelantado [días]  Envío tardío [días]    Cliente  \\\n",
       "0               CRF                        3                    0  V55555_53   \n",
       "1               CRF                        3                    0  V55555_53   \n",
       "2               CRF                        3                    0  V55555_53   \n",
       "3               CRF                        3                    0  V55555_53   \n",
       "4               CRF                        3                    0  V55555_53   \n",
       "\n",
       "   Producto  Planta  Puerto de destino  Items  Peso [kg/item]  \n",
       "0   1700106      16                  9    808           14.30  \n",
       "1   1700106      16                  9   3188           87.94  \n",
       "2   1700106      16                  9   2331           61.20  \n",
       "3   1700106      16                  9    847           16.16  \n",
       "4   1700106      16                  9   2163           52.34  "
      ]
     },
     "execution_count": 5,
     "metadata": {},
     "output_type": "execute_result"
    }
   ],
   "source": [
    "pedidos = pedidos.astype({\"Pedido\": int})\n",
    "pedidos[[\"Puerto de origen\", \"Planta\", \"Puerto de destino\"]] = pedidos[[\"Puerto de origen\", \"Planta\", \n",
    "                                                                        \"Puerto de destino\"]].replace({\"[^\\d.]\": \"\"}, regex = True).astype(int)\n",
    "\n",
    "pedidos.head()"
   ]
  },
  {
   "cell_type": "markdown",
   "id": "c9fac729-b2c5-40d9-b1d6-3fc0e8c31750",
   "metadata": {},
   "source": [
    "*¿Cuántas filas y columnas tiene esta tabla? (N° filas, N° columnas)*"
   ]
  },
  {
   "cell_type": "code",
   "execution_count": 6,
   "id": "769a9337-e9b2-48eb-8157-2e032ca2c736",
   "metadata": {},
   "outputs": [
    {
     "data": {
      "text/plain": [
       "(9215, 14)"
      ]
     },
     "execution_count": 6,
     "metadata": {},
     "output_type": "execute_result"
    }
   ],
   "source": [
    "pedidos.shape"
   ]
  },
  {
   "cell_type": "markdown",
   "id": "c94242ae-2c82-4c8d-907e-0270ffa5bc3c",
   "metadata": {},
   "source": [
    "*¿Cuándo se realizaron los pedidos?*"
   ]
  },
  {
   "cell_type": "code",
   "execution_count": 7,
   "id": "8d2e7581-e803-4eb9-ab74-2a7459f9bb69",
   "metadata": {},
   "outputs": [
    {
     "data": {
      "text/plain": [
       "'2013-05-26'"
      ]
     },
     "execution_count": 7,
     "metadata": {},
     "output_type": "execute_result"
    }
   ],
   "source": [
    "d = pedidos[\"Fecha\"].unique().astype(\"datetime64[D]\").astype(str)\n",
    "d[0]"
   ]
  },
  {
   "cell_type": "markdown",
   "id": "68fb6ae2-591b-461a-869d-5409629486b4",
   "metadata": {},
   "source": [
    "*¿Cuál es el total de pedidos?*"
   ]
  },
  {
   "cell_type": "code",
   "execution_count": 8,
   "id": "2e4ac753-bb7e-469e-b8e0-c2db35f0c3d1",
   "metadata": {},
   "outputs": [
    {
     "data": {
      "text/plain": [
       "9215"
      ]
     },
     "execution_count": 8,
     "metadata": {},
     "output_type": "execute_result"
    }
   ],
   "source": [
    "pedidos.shape[0]"
   ]
  },
  {
   "cell_type": "markdown",
   "id": "698314b2-0464-4eac-82c6-37e1b0be768b",
   "metadata": {},
   "source": [
    "*¿Cuántos pedidos fueron solicitados por cada conjunto Planta, Puerto de origen y Puerto de destino?*"
   ]
  },
  {
   "cell_type": "code",
   "execution_count": 9,
   "id": "62d9ab6a-207d-427f-8cbb-321525fe05a0",
   "metadata": {},
   "outputs": [
    {
     "data": {
      "text/html": [
       "<div>\n",
       "<style scoped>\n",
       "    .dataframe tbody tr th:only-of-type {\n",
       "        vertical-align: middle;\n",
       "    }\n",
       "\n",
       "    .dataframe tbody tr th {\n",
       "        vertical-align: top;\n",
       "    }\n",
       "\n",
       "    .dataframe thead th {\n",
       "        text-align: right;\n",
       "    }\n",
       "</style>\n",
       "<table border=\"1\" class=\"dataframe\">\n",
       "  <thead>\n",
       "    <tr style=\"text-align: right;\">\n",
       "      <th></th>\n",
       "      <th></th>\n",
       "      <th></th>\n",
       "      <th>Recuento de Pedidos</th>\n",
       "      <th>%</th>\n",
       "    </tr>\n",
       "    <tr>\n",
       "      <th>Planta</th>\n",
       "      <th>Puerto de origen</th>\n",
       "      <th>Puerto de destino</th>\n",
       "      <th></th>\n",
       "      <th></th>\n",
       "    </tr>\n",
       "  </thead>\n",
       "  <tbody>\n",
       "    <tr>\n",
       "      <th>3</th>\n",
       "      <th>4</th>\n",
       "      <th>9</th>\n",
       "      <td>8541</td>\n",
       "      <td>92.69</td>\n",
       "    </tr>\n",
       "    <tr>\n",
       "      <th>4</th>\n",
       "      <th>5</th>\n",
       "      <th>9</th>\n",
       "      <td>1</td>\n",
       "      <td>0.01</td>\n",
       "    </tr>\n",
       "    <tr>\n",
       "      <th>8</th>\n",
       "      <th>4</th>\n",
       "      <th>9</th>\n",
       "      <td>102</td>\n",
       "      <td>1.11</td>\n",
       "    </tr>\n",
       "    <tr>\n",
       "      <th>9</th>\n",
       "      <th>4</th>\n",
       "      <th>9</th>\n",
       "      <td>12</td>\n",
       "      <td>0.13</td>\n",
       "    </tr>\n",
       "    <tr>\n",
       "      <th>12</th>\n",
       "      <th>4</th>\n",
       "      <th>9</th>\n",
       "      <td>300</td>\n",
       "      <td>3.26</td>\n",
       "    </tr>\n",
       "    <tr>\n",
       "      <th>13</th>\n",
       "      <th>4</th>\n",
       "      <th>9</th>\n",
       "      <td>86</td>\n",
       "      <td>0.93</td>\n",
       "    </tr>\n",
       "    <tr>\n",
       "      <th>16</th>\n",
       "      <th>9</th>\n",
       "      <th>9</th>\n",
       "      <td>173</td>\n",
       "      <td>1.88</td>\n",
       "    </tr>\n",
       "  </tbody>\n",
       "</table>\n",
       "</div>"
      ],
      "text/plain": [
       "                                           Recuento de Pedidos      %\n",
       "Planta Puerto de origen Puerto de destino                            \n",
       "3      4                9                                 8541  92.69\n",
       "4      5                9                                    1   0.01\n",
       "8      4                9                                  102   1.11\n",
       "9      4                9                                   12   0.13\n",
       "12     4                9                                  300   3.26\n",
       "13     4                9                                   86   0.93\n",
       "16     9                9                                  173   1.88"
      ]
     },
     "execution_count": 9,
     "metadata": {},
     "output_type": "execute_result"
    }
   ],
   "source": [
    "pedidos_agrup = pedidos.groupby(by = [\"Planta\", \"Puerto de origen\", \n",
    "                                      \"Puerto de destino\"]).agg({\"Pedido\": \"size\"}).rename(columns = {\"Pedido\": \"Recuento de Pedidos\"})\n",
    "\n",
    "total = pedidos_agrup[\"Recuento de Pedidos\"].sum()\n",
    "pedidos_agrup[\"%\"] = pedidos_agrup[\"Recuento de Pedidos\"].apply(lambda x: x / total * 100)\n",
    "\n",
    "pedidos_agrup.round(2)"
   ]
  },
  {
   "cell_type": "code",
   "execution_count": 10,
   "id": "b34c1cfd-8925-4048-a07f-9adc0c9c8e63",
   "metadata": {},
   "outputs": [
    {
     "data": {
      "image/png": "[encoded data removed]",
      "text/plain": [
       "<Figure size 648x504 with 1 Axes>"
      ]
     },
     "metadata": {},
     "output_type": "display_data"
    }
   ],
   "source": [
    "plot_bar(\"Planta\", \"% Recuento de Pedidos\", pedidos_agrup.index.levels[0], pedidos_agrup[\"%\"])"
   ]
  },
  {
   "cell_type": "markdown",
   "id": "71b2d729-0ce8-41bb-af68-482e0c8537d0",
   "metadata": {},
   "source": [
    "*¿Cuántos items fueron solicitados por cada conjunto Planta, Puerto de origen y Puerto de destino?*"
   ]
  },
  {
   "cell_type": "code",
   "execution_count": 11,
   "id": "2c12643f-c0a5-4cb1-875a-a33a7294105b",
   "metadata": {},
   "outputs": [
    {
     "data": {
      "text/html": [
       "<div>\n",
       "<style scoped>\n",
       "    .dataframe tbody tr th:only-of-type {\n",
       "        vertical-align: middle;\n",
       "    }\n",
       "\n",
       "    .dataframe tbody tr th {\n",
       "        vertical-align: top;\n",
       "    }\n",
       "\n",
       "    .dataframe thead tr th {\n",
       "        text-align: left;\n",
       "    }\n",
       "\n",
       "    .dataframe thead tr:last-of-type th {\n",
       "        text-align: right;\n",
       "    }\n",
       "</style>\n",
       "<table border=\"1\" class=\"dataframe\">\n",
       "  <thead>\n",
       "    <tr>\n",
       "      <th></th>\n",
       "      <th></th>\n",
       "      <th></th>\n",
       "      <th colspan=\"6\" halign=\"left\">Items</th>\n",
       "    </tr>\n",
       "    <tr>\n",
       "      <th></th>\n",
       "      <th></th>\n",
       "      <th></th>\n",
       "      <th>min</th>\n",
       "      <th>mean</th>\n",
       "      <th>max</th>\n",
       "      <th>std</th>\n",
       "      <th>sum</th>\n",
       "      <th>%</th>\n",
       "    </tr>\n",
       "    <tr>\n",
       "      <th>Planta</th>\n",
       "      <th>Puerto de origen</th>\n",
       "      <th>Puerto de destino</th>\n",
       "      <th></th>\n",
       "      <th></th>\n",
       "      <th></th>\n",
       "      <th></th>\n",
       "      <th></th>\n",
       "      <th></th>\n",
       "    </tr>\n",
       "  </thead>\n",
       "  <tbody>\n",
       "    <tr>\n",
       "      <th>3</th>\n",
       "      <th>4</th>\n",
       "      <th>9</th>\n",
       "      <td>235</td>\n",
       "      <td>3349.91</td>\n",
       "      <td>561847</td>\n",
       "      <td>16525.97</td>\n",
       "      <td>28611617</td>\n",
       "      <td>96.94</td>\n",
       "    </tr>\n",
       "    <tr>\n",
       "      <th>4</th>\n",
       "      <th>5</th>\n",
       "      <th>9</th>\n",
       "      <td>348</td>\n",
       "      <td>348.00</td>\n",
       "      <td>348</td>\n",
       "      <td>NaN</td>\n",
       "      <td>348</td>\n",
       "      <td>0.00</td>\n",
       "    </tr>\n",
       "    <tr>\n",
       "      <th>8</th>\n",
       "      <th>4</th>\n",
       "      <th>9</th>\n",
       "      <td>684</td>\n",
       "      <td>2715.76</td>\n",
       "      <td>5680</td>\n",
       "      <td>1504.06</td>\n",
       "      <td>277008</td>\n",
       "      <td>0.94</td>\n",
       "    </tr>\n",
       "    <tr>\n",
       "      <th>9</th>\n",
       "      <th>4</th>\n",
       "      <th>9</th>\n",
       "      <td>2301</td>\n",
       "      <td>18652.50</td>\n",
       "      <td>101069</td>\n",
       "      <td>28877.08</td>\n",
       "      <td>223830</td>\n",
       "      <td>0.76</td>\n",
       "    </tr>\n",
       "    <tr>\n",
       "      <th>12</th>\n",
       "      <th>4</th>\n",
       "      <th>9</th>\n",
       "      <td>236</td>\n",
       "      <td>373.33</td>\n",
       "      <td>1321</td>\n",
       "      <td>169.36</td>\n",
       "      <td>112000</td>\n",
       "      <td>0.38</td>\n",
       "    </tr>\n",
       "    <tr>\n",
       "      <th>13</th>\n",
       "      <th>4</th>\n",
       "      <th>9</th>\n",
       "      <td>240</td>\n",
       "      <td>504.41</td>\n",
       "      <td>5244</td>\n",
       "      <td>609.10</td>\n",
       "      <td>43379</td>\n",
       "      <td>0.15</td>\n",
       "    </tr>\n",
       "    <tr>\n",
       "      <th>16</th>\n",
       "      <th>9</th>\n",
       "      <th>9</th>\n",
       "      <td>280</td>\n",
       "      <td>1416.95</td>\n",
       "      <td>4464</td>\n",
       "      <td>1121.49</td>\n",
       "      <td>245133</td>\n",
       "      <td>0.83</td>\n",
       "    </tr>\n",
       "  </tbody>\n",
       "</table>\n",
       "</div>"
      ],
      "text/plain": [
       "                                          Items                              \\\n",
       "                                            min      mean     max       std   \n",
       "Planta Puerto de origen Puerto de destino                                     \n",
       "3      4                9                   235   3349.91  561847  16525.97   \n",
       "4      5                9                   348    348.00     348       NaN   \n",
       "8      4                9                   684   2715.76    5680   1504.06   \n",
       "9      4                9                  2301  18652.50  101069  28877.08   \n",
       "12     4                9                   236    373.33    1321    169.36   \n",
       "13     4                9                   240    504.41    5244    609.10   \n",
       "16     9                9                   280   1416.95    4464   1121.49   \n",
       "\n",
       "                                                            \n",
       "                                                sum      %  \n",
       "Planta Puerto de origen Puerto de destino                   \n",
       "3      4                9                  28611617  96.94  \n",
       "4      5                9                       348   0.00  \n",
       "8      4                9                    277008   0.94  \n",
       "9      4                9                    223830   0.76  \n",
       "12     4                9                    112000   0.38  \n",
       "13     4                9                     43379   0.15  \n",
       "16     9                9                    245133   0.83  "
      ]
     },
     "execution_count": 11,
     "metadata": {},
     "output_type": "execute_result"
    }
   ],
   "source": [
    "pedidos_agrup = pedidos.groupby(by = [\"Planta\", \"Puerto de origen\", \"Puerto de destino\"]).agg({\"Items\": [\"min\", \"mean\", \"max\", \"std\", \"sum\"]})\n",
    "\n",
    "total = pedidos_agrup[(\"Items\", \"sum\")].sum()\n",
    "pedidos_agrup[(\"Items\", \"%\")] = pedidos_agrup[(\"Items\", \"sum\")].apply(lambda x: x / total * 100)\n",
    "\n",
    "pedidos_agrup.round(2)"
   ]
  },
  {
   "cell_type": "code",
   "execution_count": 12,
   "id": "74e5f50f-5604-484e-a2b2-b092b7277da4",
   "metadata": {},
   "outputs": [
    {
     "data": {
      "image/png": "[encoded data removed]",
      "text/plain": [
       "<Figure size 648x504 with 1 Axes>"
      ]
     },
     "metadata": {},
     "output_type": "display_data"
    }
   ],
   "source": [
    "plot_bar(\"Planta\", \"% Items\", pedidos_agrup.index.levels[0], pedidos_agrup[(\"Items\", \"%\")])"
   ]
  },
  {
   "cell_type": "markdown",
   "id": "a5783d68-336f-4d31-a364-fd22ab1be991",
   "metadata": {},
   "source": [
    "*Estadística descriptiva de Peso [kg/items] por cada conjunto Planta, Puerto de origen y Puerto de destino*"
   ]
  },
  {
   "cell_type": "code",
   "execution_count": 13,
   "id": "a8d5feaa-90f0-45be-af5d-9669aca4fa4a",
   "metadata": {},
   "outputs": [
    {
     "data": {
      "text/html": [
       "<div>\n",
       "<style scoped>\n",
       "    .dataframe tbody tr th:only-of-type {\n",
       "        vertical-align: middle;\n",
       "    }\n",
       "\n",
       "    .dataframe tbody tr th {\n",
       "        vertical-align: top;\n",
       "    }\n",
       "\n",
       "    .dataframe thead tr th {\n",
       "        text-align: left;\n",
       "    }\n",
       "\n",
       "    .dataframe thead tr:last-of-type th {\n",
       "        text-align: right;\n",
       "    }\n",
       "</style>\n",
       "<table border=\"1\" class=\"dataframe\">\n",
       "  <thead>\n",
       "    <tr>\n",
       "      <th></th>\n",
       "      <th></th>\n",
       "      <th></th>\n",
       "      <th colspan=\"6\" halign=\"left\">Peso [kg/item]</th>\n",
       "    </tr>\n",
       "    <tr>\n",
       "      <th></th>\n",
       "      <th></th>\n",
       "      <th></th>\n",
       "      <th>min</th>\n",
       "      <th>mean</th>\n",
       "      <th>max</th>\n",
       "      <th>std</th>\n",
       "      <th>sum</th>\n",
       "      <th>%</th>\n",
       "    </tr>\n",
       "    <tr>\n",
       "      <th>Planta</th>\n",
       "      <th>Puerto de origen</th>\n",
       "      <th>Puerto de destino</th>\n",
       "      <th></th>\n",
       "      <th></th>\n",
       "      <th></th>\n",
       "      <th></th>\n",
       "      <th></th>\n",
       "      <th></th>\n",
       "    </tr>\n",
       "  </thead>\n",
       "  <tbody>\n",
       "    <tr>\n",
       "      <th>3</th>\n",
       "      <th>4</th>\n",
       "      <th>9</th>\n",
       "      <td>0.00</td>\n",
       "      <td>15.86</td>\n",
       "      <td>1356.76</td>\n",
       "      <td>50.20</td>\n",
       "      <td>135486.51</td>\n",
       "      <td>73.99</td>\n",
       "    </tr>\n",
       "    <tr>\n",
       "      <th>4</th>\n",
       "      <th>5</th>\n",
       "      <th>9</th>\n",
       "      <td>2.10</td>\n",
       "      <td>2.10</td>\n",
       "      <td>2.10</td>\n",
       "      <td>NaN</td>\n",
       "      <td>2.10</td>\n",
       "      <td>0.00</td>\n",
       "    </tr>\n",
       "    <tr>\n",
       "      <th>8</th>\n",
       "      <th>4</th>\n",
       "      <th>9</th>\n",
       "      <td>2.29</td>\n",
       "      <td>14.50</td>\n",
       "      <td>43.64</td>\n",
       "      <td>10.37</td>\n",
       "      <td>1478.79</td>\n",
       "      <td>0.81</td>\n",
       "    </tr>\n",
       "    <tr>\n",
       "      <th>9</th>\n",
       "      <th>4</th>\n",
       "      <th>9</th>\n",
       "      <td>5.35</td>\n",
       "      <td>33.86</td>\n",
       "      <td>171.92</td>\n",
       "      <td>48.35</td>\n",
       "      <td>406.36</td>\n",
       "      <td>0.22</td>\n",
       "    </tr>\n",
       "    <tr>\n",
       "      <th>12</th>\n",
       "      <th>4</th>\n",
       "      <th>9</th>\n",
       "      <td>0.26</td>\n",
       "      <td>27.16</td>\n",
       "      <td>325.96</td>\n",
       "      <td>52.33</td>\n",
       "      <td>8147.43</td>\n",
       "      <td>4.45</td>\n",
       "    </tr>\n",
       "    <tr>\n",
       "      <th>13</th>\n",
       "      <th>4</th>\n",
       "      <th>9</th>\n",
       "      <td>0.35</td>\n",
       "      <td>63.12</td>\n",
       "      <td>946.50</td>\n",
       "      <td>127.13</td>\n",
       "      <td>5428.39</td>\n",
       "      <td>2.96</td>\n",
       "    </tr>\n",
       "    <tr>\n",
       "      <th>16</th>\n",
       "      <th>9</th>\n",
       "      <th>9</th>\n",
       "      <td>0.61</td>\n",
       "      <td>185.94</td>\n",
       "      <td>2338.41</td>\n",
       "      <td>264.06</td>\n",
       "      <td>32168.01</td>\n",
       "      <td>17.57</td>\n",
       "    </tr>\n",
       "  </tbody>\n",
       "</table>\n",
       "</div>"
      ],
      "text/plain": [
       "                                          Peso [kg/item]                   \\\n",
       "                                                     min    mean      max   \n",
       "Planta Puerto de origen Puerto de destino                                   \n",
       "3      4                9                           0.00   15.86  1356.76   \n",
       "4      5                9                           2.10    2.10     2.10   \n",
       "8      4                9                           2.29   14.50    43.64   \n",
       "9      4                9                           5.35   33.86   171.92   \n",
       "12     4                9                           0.26   27.16   325.96   \n",
       "13     4                9                           0.35   63.12   946.50   \n",
       "16     9                9                           0.61  185.94  2338.41   \n",
       "\n",
       "                                                                     \n",
       "                                              std        sum      %  \n",
       "Planta Puerto de origen Puerto de destino                            \n",
       "3      4                9                   50.20  135486.51  73.99  \n",
       "4      5                9                     NaN       2.10   0.00  \n",
       "8      4                9                   10.37    1478.79   0.81  \n",
       "9      4                9                   48.35     406.36   0.22  \n",
       "12     4                9                   52.33    8147.43   4.45  \n",
       "13     4                9                  127.13    5428.39   2.96  \n",
       "16     9                9                  264.06   32168.01  17.57  "
      ]
     },
     "execution_count": 13,
     "metadata": {},
     "output_type": "execute_result"
    }
   ],
   "source": [
    "pedidos_agrup = pedidos.groupby(by = [\"Planta\", \"Puerto de origen\", \"Puerto de destino\"]).agg({\"Peso [kg/item]\": [\"min\", \"mean\", \"max\", \"std\", \"sum\"]})\n",
    "\n",
    "total = pedidos_agrup[(\"Peso [kg/item]\", \"sum\")].sum()\n",
    "pedidos_agrup[(\"Peso [kg/item]\", \"%\")] = pedidos_agrup[(\"Peso [kg/item]\", \"sum\")].apply(lambda x: x / total * 100)\n",
    "\n",
    "pedidos_agrup.round(2)"
   ]
  },
  {
   "cell_type": "code",
   "execution_count": 14,
   "id": "8d384e4d-401d-4a9d-9d63-c3603a15e7fb",
   "metadata": {},
   "outputs": [
    {
     "data": {
      "image/png": "[encoded data removed]",
      "text/plain": [
       "<Figure size 648x504 with 1 Axes>"
      ]
     },
     "metadata": {},
     "output_type": "display_data"
    }
   ],
   "source": [
    "plot_bar(\"Planta\", \"% de Peso\", pedidos_agrup.index.levels[0], pedidos_agrup[(\"Peso [kg/item]\", \"%\")])"
   ]
  },
  {
   "cell_type": "markdown",
   "id": "7b87c7b7-397b-4c44-a27f-49edee6df47f",
   "metadata": {},
   "source": [
    "*¿Hay alguna correlación entre Peso [kg/items] e Items?*"
   ]
  },
  {
   "cell_type": "code",
   "execution_count": 15,
   "id": "c57f757b-0c33-432d-86c5-d83fdc7130c9",
   "metadata": {},
   "outputs": [
    {
     "data": {
      "image/png": "[encoded data removed]",
      "text/plain": [
       "<Figure size 648x504 with 1 Axes>"
      ]
     },
     "metadata": {},
     "output_type": "display_data"
    }
   ],
   "source": [
    "plot_scatter(\"Items\", \"Peso [kg/item]\", pedidos[\"Items\"], pedidos[\"Peso [kg/item]\"])"
   ]
  },
  {
   "cell_type": "code",
   "execution_count": 16,
   "id": "ed77e421-8bd3-4f38-89d9-2787ced7c41f",
   "metadata": {},
   "outputs": [
    {
     "data": {
      "text/plain": [
       "0.345"
      ]
     },
     "execution_count": 16,
     "metadata": {},
     "output_type": "execute_result"
    }
   ],
   "source": [
    "from scipy.stats import pearsonr \n",
    "r2, pvalue = pearsonr(x = pedidos[\"Items\"], y = pedidos[\"Peso [kg/item]\"])\n",
    "\n",
    "round(r2, 3)"
   ]
  }
 ],
 "metadata": {
  "kernelspec": {
   "display_name": "base",
   "language": "python",
   "name": "python3"
  },
  "language_info": {
   "codemirror_mode": {
    "name": "ipython",
    "version": 3
   },
   "file_extension": ".py",
   "mimetype": "text/x-python",
   "name": "python",
   "nbconvert_exporter": "python",
   "pygments_lexer": "ipython3",
   "version": "3.8.8"
  }
 },
 "nbformat": 4,
 "nbformat_minor": 5
}
