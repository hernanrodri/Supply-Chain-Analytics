{
 "cells": [
  {
   "cell_type": "code",
   "execution_count": 1,
   "id": "da992331-946b-4e74-9070-eea7d7deb3f8",
   "metadata": {},
   "outputs": [],
   "source": [
    "import numpy as np\n",
    "import pandas as pd\n",
    "import matplotlib.pyplot as plt"
   ]
  },
  {
   "cell_type": "markdown",
   "id": "8cf013c8-3f94-4b78-b4cc-f96c205e4bf7",
   "metadata": {},
   "source": [
    "## Tabla Capacidad de Almacenaje"
   ]
  },
  {
   "cell_type": "markdown",
   "id": "80913740-b703-4e5b-97b9-1179430c934d",
   "metadata": {},
   "source": [
    "La capacidad de almacenaje es el número máximo de pedidos que se pueden procesar por cada planta, no depende de productos específicos."
   ]
  },
  {
   "cell_type": "code",
   "execution_count": 2,
   "id": "46088608-487b-468f-beeb-9c09eb13a2c7",
   "metadata": {},
   "outputs": [],
   "source": [
    "capacities = pd.read_excel(\"data.xlsx\", sheet_name = \"WhCapacities\")\n",
    "\n",
    "capacities.columns = [\"Planta\", \"Capacidad [pedidos/día]\"]\n",
    "capacities = capacities.replace({\"[^\\d.]\": \"\"}, regex = True).astype(int)\n",
    "capacities = capacities[capacities[\"Planta\"] <= 15]\n",
    "capacities = capacities.set_index(\"Planta\")\n"
   ]
  },
  {
   "cell_type": "code",
   "execution_count": 3,
   "id": "6d67e584",
   "metadata": {},
   "outputs": [
    {
     "data": {
      "text/html": [
       "<div>\n",
       "<style scoped>\n",
       "    .dataframe tbody tr th:only-of-type {\n",
       "        vertical-align: middle;\n",
       "    }\n",
       "\n",
       "    .dataframe tbody tr th {\n",
       "        vertical-align: top;\n",
       "    }\n",
       "\n",
       "    .dataframe thead th {\n",
       "        text-align: right;\n",
       "    }\n",
       "</style>\n",
       "<table border=\"1\" class=\"dataframe\">\n",
       "  <thead>\n",
       "    <tr style=\"text-align: right;\">\n",
       "      <th></th>\n",
       "      <th>Capacidad [pedidos/día]</th>\n",
       "    </tr>\n",
       "    <tr>\n",
       "      <th>Planta</th>\n",
       "      <th></th>\n",
       "    </tr>\n",
       "  </thead>\n",
       "  <tbody>\n",
       "    <tr>\n",
       "      <th>15</th>\n",
       "      <td>11</td>\n",
       "    </tr>\n",
       "    <tr>\n",
       "      <th>5</th>\n",
       "      <td>385</td>\n",
       "    </tr>\n",
       "    <tr>\n",
       "      <th>2</th>\n",
       "      <td>138</td>\n",
       "    </tr>\n",
       "    <tr>\n",
       "      <th>1</th>\n",
       "      <td>1070</td>\n",
       "    </tr>\n",
       "    <tr>\n",
       "      <th>6</th>\n",
       "      <td>49</td>\n",
       "    </tr>\n",
       "    <tr>\n",
       "      <th>10</th>\n",
       "      <td>118</td>\n",
       "    </tr>\n",
       "    <tr>\n",
       "      <th>7</th>\n",
       "      <td>265</td>\n",
       "    </tr>\n",
       "    <tr>\n",
       "      <th>14</th>\n",
       "      <td>549</td>\n",
       "    </tr>\n",
       "    <tr>\n",
       "      <th>12</th>\n",
       "      <td>209</td>\n",
       "    </tr>\n",
       "    <tr>\n",
       "      <th>11</th>\n",
       "      <td>332</td>\n",
       "    </tr>\n",
       "    <tr>\n",
       "      <th>9</th>\n",
       "      <td>11</td>\n",
       "    </tr>\n",
       "    <tr>\n",
       "      <th>3</th>\n",
       "      <td>1013</td>\n",
       "    </tr>\n",
       "    <tr>\n",
       "      <th>13</th>\n",
       "      <td>490</td>\n",
       "    </tr>\n",
       "    <tr>\n",
       "      <th>8</th>\n",
       "      <td>14</td>\n",
       "    </tr>\n",
       "    <tr>\n",
       "      <th>4</th>\n",
       "      <td>554</td>\n",
       "    </tr>\n",
       "  </tbody>\n",
       "</table>\n",
       "</div>"
      ],
      "text/plain": [
       "        Capacidad [pedidos/día]\n",
       "Planta                         \n",
       "15                           11\n",
       "5                           385\n",
       "2                           138\n",
       "1                          1070\n",
       "6                            49\n",
       "10                          118\n",
       "7                           265\n",
       "14                          549\n",
       "12                          209\n",
       "11                          332\n",
       "9                            11\n",
       "3                          1013\n",
       "13                          490\n",
       "8                            14\n",
       "4                           554"
      ]
     },
     "execution_count": 3,
     "metadata": {},
     "output_type": "execute_result"
    }
   ],
   "source": [
    "capacities"
   ]
  },
  {
   "cell_type": "code",
   "execution_count": 5,
   "id": "354539a7-2576-4412-b104-a260c0a17fda",
   "metadata": {},
   "outputs": [
    {
     "data": {
      "image/png": "[encoded data removed]",
      "text/plain": [
       "<Figure size 648x504 with 1 Axes>"
      ]
     },
     "metadata": {},
     "output_type": "display_data"
    }
   ],
   "source": [
    "if __name__ == \"__main__\":\n",
    "    plt.style.use(\"seaborn-darkgrid\")\n",
    "    plt.figure(figsize = (9, 7))\n",
    "    plt.bar(capacities.index, capacities[\"Capacidad [pedidos/día]\"])\n",
    "    plt.xlabel(\"Planta\")\n",
    "    plt.ylabel(\"Capacidad [pedidos/día]\")"
   ]
  },
  {
   "cell_type": "code",
   "execution_count": null,
   "id": "392671ef-d5b8-4df2-b84f-a67204f05320",
   "metadata": {},
   "outputs": [],
   "source": []
  }
 ],
 "metadata": {
  "kernelspec": {
   "display_name": "base",
   "language": "python",
   "name": "python3"
  },
  "language_info": {
   "codemirror_mode": {
    "name": "ipython",
    "version": 3
   },
   "file_extension": ".py",
   "mimetype": "text/x-python",
   "name": "python",
   "nbconvert_exporter": "python",
   "pygments_lexer": "ipython3",
   "version": "3.8.8"
  }
 },
 "nbformat": 4,
 "nbformat_minor": 5
}
